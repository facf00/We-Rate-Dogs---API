{
 "cells": [
  {
   "cell_type": "markdown",
   "id": "021089bb",
   "metadata": {},
   "source": [
    "# We Rate Dogs "
   ]
  },
  {
   "cell_type": "markdown",
   "id": "11ca7342",
   "metadata": {},
   "source": [
    "## Introduction\n",
    "- WeRateDogs is a popular Twitter account with 9.3 million followers that rates people's dogs with a humorous comment. To gather data for analysis, we used pandas and the Twitter API to obtain information from three different files. We then conducted both visual and programmatic assessments to identify quality and tidiness issues in the data, including duplicates, missing values, and inaccuracies.\n",
    "\n",
    "\n",
    "- To address these issues, we followed a structured approach that involved defining the problem, writing code to clean the data, and testing to ensure that the data was trustworthy. Finally, we visualised the cleaned data to gain insights and answer questions.\n",
    "\n",
    "\n",
    "- One such question was which breed of dogs received the highest number of favorites. Our analysis found that Golden Retriever, Labrador Retriever, and Pembroke were the top three breeds with the highest number of favorites. Among these breeds, Golden Retriever had the highest count of 1,257,407 favorites. The mean number of favorites for predicted breeds was 123,233.15, with a standard deviation of 337,460.92."
   ]
  },
  {
   "cell_type": "code",
   "execution_count": 1,
   "id": "bd27b6e0",
   "metadata": {},
   "outputs": [],
   "source": [
    "# Import necessary libraries\n",
    "import json\n",
    "import numpy as np\n",
    "import pandas as pd\n",
    "import requests\n",
    "import tweepy\n",
    "from io import BytesIO\n",
    "from PIL import Image\n",
    "\n",
    "import matplotlib.pyplot as plt\n",
    "import seaborn as sns\n",
    "from matplotlib import rcParams\n",
    "from matplotlib.ticker import ScalarFormatter\n",
    "\n",
    "%matplotlib inline\n"
   ]
  },
  {
   "cell_type": "markdown",
   "id": "6d85865d",
   "metadata": {},
   "source": [
    "### Gathering"
   ]
  },
  {
   "cell_type": "code",
   "execution_count": 2,
   "id": "7ec0f2b1",
   "metadata": {},
   "outputs": [
    {
     "data": {
      "text/plain": [
       "(2356, 17)"
      ]
     },
     "execution_count": 2,
     "metadata": {},
     "output_type": "execute_result"
    }
   ],
   "source": [
    "archive = pd.read_csv('twitter_archive_enhanced.csv')\n",
    "archive.shape"
   ]
  },
  {
   "cell_type": "code",
   "execution_count": 3,
   "id": "a843c390",
   "metadata": {},
   "outputs": [
    {
     "name": "stdout",
     "output_type": "stream",
     "text": [
      "200\n"
     ]
    },
    {
     "data": {
      "text/plain": [
       "(2075, 12)"
      ]
     },
     "execution_count": 3,
     "metadata": {},
     "output_type": "execute_result"
    }
   ],
   "source": [
    "url = \"https://d17h27t6h515a5.cloudfront.net/topher/2017/August/599fd2ad_image-predictions/image-predictions.tsv\"\n",
    "response = requests.get(url)\n",
    "print(response.status_code)\n",
    "\n",
    "with open(\"image_predictions.tsv\", mode='wb') as file:\n",
    "    file.write(response.content)\n",
    "\n",
    "predict = pd.read_csv('image_predictions.tsv', sep='\\t')\n",
    "predict.shape"
   ]
  },
  {
   "cell_type": "raw",
   "id": "2fc646c7",
   "metadata": {},
   "source": [
    "# set twitter dev keys\n",
    "consumer_key = \"\"\n",
    "consumer_secret = \"\"\n",
    "auth = tweepy.AppAuthHandler(consumer_key, consumer_secret)\n",
    "api = tweepy.API(auth, wait_on_rate_limit=True)\n",
    "\n",
    "tweet_ids = predict.tweet_id.values\n",
    "len(tweet_ids)"
   ]
  },
  {
   "cell_type": "raw",
   "id": "d44eec8e",
   "metadata": {},
   "source": [
    "%%time\n",
    "\n",
    "# Query Twitter's API for JSON data \n",
    "count = 0\n",
    "fails_dict = {}\n",
    "\n",
    "with open('tweet_json.txt', 'w') as outfile:\n",
    "  for tweet_id in tweet_ids:\n",
    "        count += 1\n",
    "        print(str(count) + \": \" + str(tweet_id))\n",
    "        try:\n",
    "            tweet = api.get_status(tweet_id, tweet_mode='extended')\n",
    "            json.dump(tweet._json, outfile)\n",
    "            print(\"Success\")\n",
    "            outfile.write('\\n')\n",
    "        except Exception as e:\n",
    "            print(\"Fail\")\n",
    "            fails_dict[tweet_id] = e\n",
    "            pass\n",
    "        \n",
    "\n",
    "print(fails_dict)"
   ]
  },
  {
   "cell_type": "code",
   "execution_count": 4,
   "id": "69df4f79",
   "metadata": {},
   "outputs": [],
   "source": [
    "# import from csv\n",
    "json = pd.read_json('tweet_json.txt', lines=True)"
   ]
  },
  {
   "cell_type": "code",
   "execution_count": 5,
   "id": "4d3b39ea",
   "metadata": {},
   "outputs": [],
   "source": [
    "json['tweet_id'] = json['id']"
   ]
  },
  {
   "cell_type": "code",
   "execution_count": 6,
   "id": "84c3341a",
   "metadata": {},
   "outputs": [],
   "source": [
    "#Selecting columns \n",
    "twitter_api = json[['tweet_id','retweet_count', 'favorite_count']]"
   ]
  },
  {
   "cell_type": "code",
   "execution_count": 7,
   "id": "c012c58b",
   "metadata": {},
   "outputs": [],
   "source": [
    "# Merging for Assesing\n",
    "m1 = pd.merge(twitter_api, archive, on=\"tweet_id\", how='left')\n",
    "m2 = pd.merge(m1, predict, on=\"tweet_id\", how='left')\n",
    "df_final = m2"
   ]
  },
  {
   "cell_type": "markdown",
   "id": "36218d55",
   "metadata": {},
   "source": [
    "## Assesing "
   ]
  },
  {
   "cell_type": "code",
   "execution_count": 8,
   "id": "591b1a75",
   "metadata": {},
   "outputs": [
    {
     "data": {
      "text/html": [
       "<div>\n",
       "<style scoped>\n",
       "    .dataframe tbody tr th:only-of-type {\n",
       "        vertical-align: middle;\n",
       "    }\n",
       "\n",
       "    .dataframe tbody tr th {\n",
       "        vertical-align: top;\n",
       "    }\n",
       "\n",
       "    .dataframe thead th {\n",
       "        text-align: right;\n",
       "    }\n",
       "</style>\n",
       "<table border=\"1\" class=\"dataframe\">\n",
       "  <thead>\n",
       "    <tr style=\"text-align: right;\">\n",
       "      <th></th>\n",
       "      <th>tweet_id</th>\n",
       "      <th>retweet_count</th>\n",
       "      <th>favorite_count</th>\n",
       "      <th>in_reply_to_status_id</th>\n",
       "      <th>in_reply_to_user_id</th>\n",
       "      <th>timestamp</th>\n",
       "      <th>source</th>\n",
       "      <th>text</th>\n",
       "      <th>retweeted_status_id</th>\n",
       "      <th>retweeted_status_user_id</th>\n",
       "      <th>retweeted_status_timestamp</th>\n",
       "      <th>expanded_urls</th>\n",
       "      <th>rating_numerator</th>\n",
       "      <th>rating_denominator</th>\n",
       "      <th>name</th>\n",
       "      <th>doggo</th>\n",
       "      <th>floofer</th>\n",
       "      <th>pupper</th>\n",
       "      <th>puppo</th>\n",
       "      <th>jpg_url</th>\n",
       "      <th>img_num</th>\n",
       "      <th>p1</th>\n",
       "      <th>p1_conf</th>\n",
       "      <th>p1_dog</th>\n",
       "      <th>p2</th>\n",
       "      <th>p2_conf</th>\n",
       "      <th>p2_dog</th>\n",
       "      <th>p3</th>\n",
       "      <th>p3_conf</th>\n",
       "      <th>p3_dog</th>\n",
       "    </tr>\n",
       "  </thead>\n",
       "  <tbody>\n",
       "    <tr>\n",
       "      <th>0</th>\n",
       "      <td>666020...</td>\n",
       "      <td>416</td>\n",
       "      <td>2234</td>\n",
       "      <td>NaN</td>\n",
       "      <td>NaN</td>\n",
       "      <td>2015-1...</td>\n",
       "      <td>&lt;a hre...</td>\n",
       "      <td>Here w...</td>\n",
       "      <td>NaN</td>\n",
       "      <td>NaN</td>\n",
       "      <td>NaN</td>\n",
       "      <td>https:...</td>\n",
       "      <td>8</td>\n",
       "      <td>10</td>\n",
       "      <td>None</td>\n",
       "      <td>None</td>\n",
       "      <td>None</td>\n",
       "      <td>None</td>\n",
       "      <td>None</td>\n",
       "      <td>https:...</td>\n",
       "      <td>1</td>\n",
       "      <td>Welsh_...</td>\n",
       "      <td>0.465074</td>\n",
       "      <td>True</td>\n",
       "      <td>collie</td>\n",
       "      <td>0.156665</td>\n",
       "      <td>True</td>\n",
       "      <td>Shetla...</td>\n",
       "      <td>0.061428</td>\n",
       "      <td>True</td>\n",
       "    </tr>\n",
       "    <tr>\n",
       "      <th>1</th>\n",
       "      <td>666029...</td>\n",
       "      <td>39</td>\n",
       "      <td>111</td>\n",
       "      <td>NaN</td>\n",
       "      <td>NaN</td>\n",
       "      <td>2015-1...</td>\n",
       "      <td>&lt;a hre...</td>\n",
       "      <td>This i...</td>\n",
       "      <td>NaN</td>\n",
       "      <td>NaN</td>\n",
       "      <td>NaN</td>\n",
       "      <td>https:...</td>\n",
       "      <td>7</td>\n",
       "      <td>10</td>\n",
       "      <td>a</td>\n",
       "      <td>None</td>\n",
       "      <td>None</td>\n",
       "      <td>None</td>\n",
       "      <td>None</td>\n",
       "      <td>https:...</td>\n",
       "      <td>1</td>\n",
       "      <td>redbone</td>\n",
       "      <td>0.506826</td>\n",
       "      <td>True</td>\n",
       "      <td>miniat...</td>\n",
       "      <td>0.074192</td>\n",
       "      <td>True</td>\n",
       "      <td>Rhodes...</td>\n",
       "      <td>0.072010</td>\n",
       "      <td>True</td>\n",
       "    </tr>\n",
       "    <tr>\n",
       "      <th>2</th>\n",
       "      <td>666033...</td>\n",
       "      <td>35</td>\n",
       "      <td>98</td>\n",
       "      <td>NaN</td>\n",
       "      <td>NaN</td>\n",
       "      <td>2015-1...</td>\n",
       "      <td>&lt;a hre...</td>\n",
       "      <td>Here i...</td>\n",
       "      <td>NaN</td>\n",
       "      <td>NaN</td>\n",
       "      <td>NaN</td>\n",
       "      <td>https:...</td>\n",
       "      <td>9</td>\n",
       "      <td>10</td>\n",
       "      <td>a</td>\n",
       "      <td>None</td>\n",
       "      <td>None</td>\n",
       "      <td>None</td>\n",
       "      <td>None</td>\n",
       "      <td>https:...</td>\n",
       "      <td>1</td>\n",
       "      <td>German...</td>\n",
       "      <td>0.596461</td>\n",
       "      <td>True</td>\n",
       "      <td>malinois</td>\n",
       "      <td>0.138584</td>\n",
       "      <td>True</td>\n",
       "      <td>bloodh...</td>\n",
       "      <td>0.116197</td>\n",
       "      <td>True</td>\n",
       "    </tr>\n",
       "    <tr>\n",
       "      <th>3</th>\n",
       "      <td>666044...</td>\n",
       "      <td>113</td>\n",
       "      <td>244</td>\n",
       "      <td>NaN</td>\n",
       "      <td>NaN</td>\n",
       "      <td>2015-1...</td>\n",
       "      <td>&lt;a hre...</td>\n",
       "      <td>This i...</td>\n",
       "      <td>NaN</td>\n",
       "      <td>NaN</td>\n",
       "      <td>NaN</td>\n",
       "      <td>https:...</td>\n",
       "      <td>6</td>\n",
       "      <td>10</td>\n",
       "      <td>a</td>\n",
       "      <td>None</td>\n",
       "      <td>None</td>\n",
       "      <td>None</td>\n",
       "      <td>None</td>\n",
       "      <td>https:...</td>\n",
       "      <td>1</td>\n",
       "      <td>Rhodes...</td>\n",
       "      <td>0.408143</td>\n",
       "      <td>True</td>\n",
       "      <td>redbone</td>\n",
       "      <td>0.360687</td>\n",
       "      <td>True</td>\n",
       "      <td>miniat...</td>\n",
       "      <td>0.222752</td>\n",
       "      <td>True</td>\n",
       "    </tr>\n",
       "    <tr>\n",
       "      <th>4</th>\n",
       "      <td>666049...</td>\n",
       "      <td>36</td>\n",
       "      <td>86</td>\n",
       "      <td>NaN</td>\n",
       "      <td>NaN</td>\n",
       "      <td>2015-1...</td>\n",
       "      <td>&lt;a hre...</td>\n",
       "      <td>Here w...</td>\n",
       "      <td>NaN</td>\n",
       "      <td>NaN</td>\n",
       "      <td>NaN</td>\n",
       "      <td>https:...</td>\n",
       "      <td>5</td>\n",
       "      <td>10</td>\n",
       "      <td>None</td>\n",
       "      <td>None</td>\n",
       "      <td>None</td>\n",
       "      <td>None</td>\n",
       "      <td>None</td>\n",
       "      <td>https:...</td>\n",
       "      <td>1</td>\n",
       "      <td>miniat...</td>\n",
       "      <td>0.560311</td>\n",
       "      <td>True</td>\n",
       "      <td>Rottwe...</td>\n",
       "      <td>0.243682</td>\n",
       "      <td>True</td>\n",
       "      <td>Doberman</td>\n",
       "      <td>0.154629</td>\n",
       "      <td>True</td>\n",
       "    </tr>\n",
       "  </tbody>\n",
       "</table>\n",
       "</div>"
      ],
      "text/plain": [
       "    tweet_id  retweet_count  favorite_count  in_reply_to_status_id  \\\n",
       "0  666020...        416           2234             NaN               \n",
       "1  666029...         39            111             NaN               \n",
       "2  666033...         35             98             NaN               \n",
       "3  666044...        113            244             NaN               \n",
       "4  666049...         36             86             NaN               \n",
       "\n",
       "   in_reply_to_user_id  timestamp     source       text  retweeted_status_id  \\\n",
       "0        NaN            2015-1...  <a hre...  Here w...        NaN             \n",
       "1        NaN            2015-1...  <a hre...  This i...        NaN             \n",
       "2        NaN            2015-1...  <a hre...  Here i...        NaN             \n",
       "3        NaN            2015-1...  <a hre...  This i...        NaN             \n",
       "4        NaN            2015-1...  <a hre...  Here w...        NaN             \n",
       "\n",
       "   retweeted_status_user_id retweeted_status_timestamp expanded_urls  \\\n",
       "0        NaN                       NaN                  https:...      \n",
       "1        NaN                       NaN                  https:...      \n",
       "2        NaN                       NaN                  https:...      \n",
       "3        NaN                       NaN                  https:...      \n",
       "4        NaN                       NaN                  https:...      \n",
       "\n",
       "   rating_numerator  rating_denominator  name doggo floofer pupper puppo  \\\n",
       "0          8                10           None  None    None   None  None   \n",
       "1          7                10              a  None    None   None  None   \n",
       "2          9                10              a  None    None   None  None   \n",
       "3          6                10              a  None    None   None  None   \n",
       "4          5                10           None  None    None   None  None   \n",
       "\n",
       "     jpg_url  img_num         p1   p1_conf  p1_dog         p2   p2_conf  \\\n",
       "0  https:...        1  Welsh_...  0.465074    True     collie  0.156665   \n",
       "1  https:...        1    redbone  0.506826    True  miniat...  0.074192   \n",
       "2  https:...        1  German...  0.596461    True   malinois  0.138584   \n",
       "3  https:...        1  Rhodes...  0.408143    True    redbone  0.360687   \n",
       "4  https:...        1  miniat...  0.560311    True  Rottwe...  0.243682   \n",
       "\n",
       "   p2_dog         p3   p3_conf  p3_dog  \n",
       "0    True  Shetla...  0.061428    True  \n",
       "1    True  Rhodes...  0.072010    True  \n",
       "2    True  bloodh...  0.116197    True  \n",
       "3    True  miniat...  0.222752    True  \n",
       "4    True   Doberman  0.154629    True  "
      ]
     },
     "execution_count": 8,
     "metadata": {},
     "output_type": "execute_result"
    }
   ],
   "source": [
    "pd.set_option(\"max_colwidth\", 10)\n",
    "pd.set_option('display.max_columns', 30)\n",
    "df_final.head()"
   ]
  },
  {
   "cell_type": "code",
   "execution_count": 9,
   "id": "f977f0a6",
   "metadata": {},
   "outputs": [
    {
     "data": {
      "text/html": [
       "<div>\n",
       "<style scoped>\n",
       "    .dataframe tbody tr th:only-of-type {\n",
       "        vertical-align: middle;\n",
       "    }\n",
       "\n",
       "    .dataframe tbody tr th {\n",
       "        vertical-align: top;\n",
       "    }\n",
       "\n",
       "    .dataframe thead th {\n",
       "        text-align: right;\n",
       "    }\n",
       "</style>\n",
       "<table border=\"1\" class=\"dataframe\">\n",
       "  <thead>\n",
       "    <tr style=\"text-align: right;\">\n",
       "      <th></th>\n",
       "      <th>tweet_id</th>\n",
       "      <th>retweet_count</th>\n",
       "      <th>favorite_count</th>\n",
       "      <th>in_reply_to_status_id</th>\n",
       "      <th>in_reply_to_user_id</th>\n",
       "      <th>timestamp</th>\n",
       "      <th>source</th>\n",
       "      <th>text</th>\n",
       "      <th>retweeted_status_id</th>\n",
       "      <th>retweeted_status_user_id</th>\n",
       "      <th>retweeted_status_timestamp</th>\n",
       "      <th>expanded_urls</th>\n",
       "      <th>rating_numerator</th>\n",
       "      <th>rating_denominator</th>\n",
       "      <th>name</th>\n",
       "      <th>doggo</th>\n",
       "      <th>floofer</th>\n",
       "      <th>pupper</th>\n",
       "      <th>puppo</th>\n",
       "      <th>jpg_url</th>\n",
       "      <th>img_num</th>\n",
       "      <th>p1</th>\n",
       "      <th>p1_conf</th>\n",
       "      <th>p1_dog</th>\n",
       "      <th>p2</th>\n",
       "      <th>p2_conf</th>\n",
       "      <th>p2_dog</th>\n",
       "      <th>p3</th>\n",
       "      <th>p3_conf</th>\n",
       "      <th>p3_dog</th>\n",
       "    </tr>\n",
       "  </thead>\n",
       "  <tbody>\n",
       "    <tr>\n",
       "      <th>2051</th>\n",
       "      <td>891327...</td>\n",
       "      <td>7620</td>\n",
       "      <td>34385</td>\n",
       "      <td>NaN</td>\n",
       "      <td>NaN</td>\n",
       "      <td>2017-0...</td>\n",
       "      <td>&lt;a hre...</td>\n",
       "      <td>This i...</td>\n",
       "      <td>NaN</td>\n",
       "      <td>NaN</td>\n",
       "      <td>NaN</td>\n",
       "      <td>https:...</td>\n",
       "      <td>12</td>\n",
       "      <td>10</td>\n",
       "      <td>Franklin</td>\n",
       "      <td>None</td>\n",
       "      <td>None</td>\n",
       "      <td>None</td>\n",
       "      <td>None</td>\n",
       "      <td>https:...</td>\n",
       "      <td>2</td>\n",
       "      <td>basset</td>\n",
       "      <td>0.555712</td>\n",
       "      <td>True</td>\n",
       "      <td>Englis...</td>\n",
       "      <td>0.225770</td>\n",
       "      <td>True</td>\n",
       "      <td>German...</td>\n",
       "      <td>0.175219</td>\n",
       "      <td>True</td>\n",
       "    </tr>\n",
       "    <tr>\n",
       "      <th>2052</th>\n",
       "      <td>891689...</td>\n",
       "      <td>7103</td>\n",
       "      <td>35974</td>\n",
       "      <td>NaN</td>\n",
       "      <td>NaN</td>\n",
       "      <td>2017-0...</td>\n",
       "      <td>&lt;a hre...</td>\n",
       "      <td>This i...</td>\n",
       "      <td>NaN</td>\n",
       "      <td>NaN</td>\n",
       "      <td>NaN</td>\n",
       "      <td>https:...</td>\n",
       "      <td>13</td>\n",
       "      <td>10</td>\n",
       "      <td>Darla</td>\n",
       "      <td>None</td>\n",
       "      <td>None</td>\n",
       "      <td>None</td>\n",
       "      <td>None</td>\n",
       "      <td>https:...</td>\n",
       "      <td>1</td>\n",
       "      <td>paper_...</td>\n",
       "      <td>0.170278</td>\n",
       "      <td>False</td>\n",
       "      <td>Labrad...</td>\n",
       "      <td>0.168086</td>\n",
       "      <td>True</td>\n",
       "      <td>spatula</td>\n",
       "      <td>0.040836</td>\n",
       "      <td>False</td>\n",
       "    </tr>\n",
       "    <tr>\n",
       "      <th>2053</th>\n",
       "      <td>891815...</td>\n",
       "      <td>3427</td>\n",
       "      <td>21435</td>\n",
       "      <td>NaN</td>\n",
       "      <td>NaN</td>\n",
       "      <td>2017-0...</td>\n",
       "      <td>&lt;a hre...</td>\n",
       "      <td>This i...</td>\n",
       "      <td>NaN</td>\n",
       "      <td>NaN</td>\n",
       "      <td>NaN</td>\n",
       "      <td>https:...</td>\n",
       "      <td>12</td>\n",
       "      <td>10</td>\n",
       "      <td>Archie</td>\n",
       "      <td>None</td>\n",
       "      <td>None</td>\n",
       "      <td>None</td>\n",
       "      <td>None</td>\n",
       "      <td>https:...</td>\n",
       "      <td>1</td>\n",
       "      <td>Chihuahua</td>\n",
       "      <td>0.716012</td>\n",
       "      <td>True</td>\n",
       "      <td>malamute</td>\n",
       "      <td>0.078253</td>\n",
       "      <td>True</td>\n",
       "      <td>kelpie</td>\n",
       "      <td>0.031379</td>\n",
       "      <td>True</td>\n",
       "    </tr>\n",
       "    <tr>\n",
       "      <th>2054</th>\n",
       "      <td>892177...</td>\n",
       "      <td>5193</td>\n",
       "      <td>28505</td>\n",
       "      <td>NaN</td>\n",
       "      <td>NaN</td>\n",
       "      <td>2017-0...</td>\n",
       "      <td>&lt;a hre...</td>\n",
       "      <td>This i...</td>\n",
       "      <td>NaN</td>\n",
       "      <td>NaN</td>\n",
       "      <td>NaN</td>\n",
       "      <td>https:...</td>\n",
       "      <td>13</td>\n",
       "      <td>10</td>\n",
       "      <td>Tilly</td>\n",
       "      <td>None</td>\n",
       "      <td>None</td>\n",
       "      <td>None</td>\n",
       "      <td>None</td>\n",
       "      <td>https:...</td>\n",
       "      <td>1</td>\n",
       "      <td>Chihuahua</td>\n",
       "      <td>0.323581</td>\n",
       "      <td>True</td>\n",
       "      <td>Pekinese</td>\n",
       "      <td>0.090647</td>\n",
       "      <td>True</td>\n",
       "      <td>papillon</td>\n",
       "      <td>0.068957</td>\n",
       "      <td>True</td>\n",
       "    </tr>\n",
       "    <tr>\n",
       "      <th>2055</th>\n",
       "      <td>892420...</td>\n",
       "      <td>6893</td>\n",
       "      <td>32964</td>\n",
       "      <td>NaN</td>\n",
       "      <td>NaN</td>\n",
       "      <td>2017-0...</td>\n",
       "      <td>&lt;a hre...</td>\n",
       "      <td>This i...</td>\n",
       "      <td>NaN</td>\n",
       "      <td>NaN</td>\n",
       "      <td>NaN</td>\n",
       "      <td>https:...</td>\n",
       "      <td>13</td>\n",
       "      <td>10</td>\n",
       "      <td>Phineas</td>\n",
       "      <td>None</td>\n",
       "      <td>None</td>\n",
       "      <td>None</td>\n",
       "      <td>None</td>\n",
       "      <td>https:...</td>\n",
       "      <td>1</td>\n",
       "      <td>orange</td>\n",
       "      <td>0.097049</td>\n",
       "      <td>False</td>\n",
       "      <td>bagel</td>\n",
       "      <td>0.085851</td>\n",
       "      <td>False</td>\n",
       "      <td>banana</td>\n",
       "      <td>0.076110</td>\n",
       "      <td>False</td>\n",
       "    </tr>\n",
       "  </tbody>\n",
       "</table>\n",
       "</div>"
      ],
      "text/plain": [
       "       tweet_id  retweet_count  favorite_count  in_reply_to_status_id  \\\n",
       "2051  891327...       7620          34385             NaN               \n",
       "2052  891689...       7103          35974             NaN               \n",
       "2053  891815...       3427          21435             NaN               \n",
       "2054  892177...       5193          28505             NaN               \n",
       "2055  892420...       6893          32964             NaN               \n",
       "\n",
       "      in_reply_to_user_id  timestamp     source       text  \\\n",
       "2051        NaN            2017-0...  <a hre...  This i...   \n",
       "2052        NaN            2017-0...  <a hre...  This i...   \n",
       "2053        NaN            2017-0...  <a hre...  This i...   \n",
       "2054        NaN            2017-0...  <a hre...  This i...   \n",
       "2055        NaN            2017-0...  <a hre...  This i...   \n",
       "\n",
       "      retweeted_status_id  retweeted_status_user_id  \\\n",
       "2051        NaN                  NaN                  \n",
       "2052        NaN                  NaN                  \n",
       "2053        NaN                  NaN                  \n",
       "2054        NaN                  NaN                  \n",
       "2055        NaN                  NaN                  \n",
       "\n",
       "     retweeted_status_timestamp expanded_urls  rating_numerator  \\\n",
       "2051        NaN                  https:...            12          \n",
       "2052        NaN                  https:...            13          \n",
       "2053        NaN                  https:...            12          \n",
       "2054        NaN                  https:...            13          \n",
       "2055        NaN                  https:...            13          \n",
       "\n",
       "      rating_denominator      name doggo floofer pupper puppo    jpg_url  \\\n",
       "2051         10           Franklin  None    None   None  None  https:...   \n",
       "2052         10              Darla  None    None   None  None  https:...   \n",
       "2053         10             Archie  None    None   None  None  https:...   \n",
       "2054         10              Tilly  None    None   None  None  https:...   \n",
       "2055         10            Phineas  None    None   None  None  https:...   \n",
       "\n",
       "      img_num         p1   p1_conf  p1_dog         p2   p2_conf  p2_dog  \\\n",
       "2051        2     basset  0.555712    True  Englis...  0.225770    True   \n",
       "2052        1  paper_...  0.170278   False  Labrad...  0.168086    True   \n",
       "2053        1  Chihuahua  0.716012    True   malamute  0.078253    True   \n",
       "2054        1  Chihuahua  0.323581    True   Pekinese  0.090647    True   \n",
       "2055        1     orange  0.097049   False      bagel  0.085851   False   \n",
       "\n",
       "             p3   p3_conf  p3_dog  \n",
       "2051  German...  0.175219    True  \n",
       "2052    spatula  0.040836   False  \n",
       "2053     kelpie  0.031379    True  \n",
       "2054   papillon  0.068957    True  \n",
       "2055     banana  0.076110   False  "
      ]
     },
     "execution_count": 9,
     "metadata": {},
     "output_type": "execute_result"
    }
   ],
   "source": [
    "df_final.tail()"
   ]
  },
  {
   "cell_type": "code",
   "execution_count": 10,
   "id": "6ddb0e3b",
   "metadata": {},
   "outputs": [
    {
     "name": "stdout",
     "output_type": "stream",
     "text": [
      "<class 'pandas.core.frame.DataFrame'>\n",
      "Int64Index: 2056 entries, 0 to 2055\n",
      "Data columns (total 30 columns):\n",
      " #   Column                      Non-Null Count  Dtype  \n",
      "---  ------                      --------------  -----  \n",
      " 0   tweet_id                    2056 non-null   int64  \n",
      " 1   retweet_count               2056 non-null   int64  \n",
      " 2   favorite_count              2056 non-null   int64  \n",
      " 3   in_reply_to_status_id       23 non-null     float64\n",
      " 4   in_reply_to_user_id         23 non-null     float64\n",
      " 5   timestamp                   2056 non-null   object \n",
      " 6   source                      2056 non-null   object \n",
      " 7   text                        2056 non-null   object \n",
      " 8   retweeted_status_id         70 non-null     float64\n",
      " 9   retweeted_status_user_id    70 non-null     float64\n",
      " 10  retweeted_status_timestamp  70 non-null     object \n",
      " 11  expanded_urls               2056 non-null   object \n",
      " 12  rating_numerator            2056 non-null   int64  \n",
      " 13  rating_denominator          2056 non-null   int64  \n",
      " 14  name                        2056 non-null   object \n",
      " 15  doggo                       2056 non-null   object \n",
      " 16  floofer                     2056 non-null   object \n",
      " 17  pupper                      2056 non-null   object \n",
      " 18  puppo                       2056 non-null   object \n",
      " 19  jpg_url                     2056 non-null   object \n",
      " 20  img_num                     2056 non-null   int64  \n",
      " 21  p1                          2056 non-null   object \n",
      " 22  p1_conf                     2056 non-null   float64\n",
      " 23  p1_dog                      2056 non-null   bool   \n",
      " 24  p2                          2056 non-null   object \n",
      " 25  p2_conf                     2056 non-null   float64\n",
      " 26  p2_dog                      2056 non-null   bool   \n",
      " 27  p3                          2056 non-null   object \n",
      " 28  p3_conf                     2056 non-null   float64\n",
      " 29  p3_dog                      2056 non-null   bool   \n",
      "dtypes: bool(3), float64(7), int64(6), object(14)\n",
      "memory usage: 455.8+ KB\n"
     ]
    }
   ],
   "source": [
    "df_final.info()"
   ]
  },
  {
   "cell_type": "code",
   "execution_count": 11,
   "id": "4b4d6f12",
   "metadata": {},
   "outputs": [
    {
     "data": {
      "text/html": [
       "<div>\n",
       "<style scoped>\n",
       "    .dataframe tbody tr th:only-of-type {\n",
       "        vertical-align: middle;\n",
       "    }\n",
       "\n",
       "    .dataframe tbody tr th {\n",
       "        vertical-align: top;\n",
       "    }\n",
       "\n",
       "    .dataframe thead th {\n",
       "        text-align: right;\n",
       "    }\n",
       "</style>\n",
       "<table border=\"1\" class=\"dataframe\">\n",
       "  <thead>\n",
       "    <tr style=\"text-align: right;\">\n",
       "      <th></th>\n",
       "      <th>tweet_id</th>\n",
       "      <th>retweet_count</th>\n",
       "      <th>favorite_count</th>\n",
       "      <th>in_reply_to_status_id</th>\n",
       "      <th>in_reply_to_user_id</th>\n",
       "      <th>retweeted_status_id</th>\n",
       "      <th>retweeted_status_user_id</th>\n",
       "      <th>rating_numerator</th>\n",
       "      <th>rating_denominator</th>\n",
       "      <th>img_num</th>\n",
       "      <th>p1_conf</th>\n",
       "      <th>p2_conf</th>\n",
       "      <th>p3_conf</th>\n",
       "    </tr>\n",
       "  </thead>\n",
       "  <tbody>\n",
       "    <tr>\n",
       "      <th>count</th>\n",
       "      <td>2.0560...</td>\n",
       "      <td>2056.0...</td>\n",
       "      <td>2056.0...</td>\n",
       "      <td>2.3000...</td>\n",
       "      <td>2.3000...</td>\n",
       "      <td>7.0000...</td>\n",
       "      <td>7.0000...</td>\n",
       "      <td>2056.0...</td>\n",
       "      <td>2056.0...</td>\n",
       "      <td>2056.0...</td>\n",
       "      <td>2056.0...</td>\n",
       "      <td>2.0560...</td>\n",
       "      <td>2.0560...</td>\n",
       "    </tr>\n",
       "    <tr>\n",
       "      <th>mean</th>\n",
       "      <td>7.3770...</td>\n",
       "      <td>2324.1...</td>\n",
       "      <td>7265.5...</td>\n",
       "      <td>6.9781...</td>\n",
       "      <td>4.1969...</td>\n",
       "      <td>7.5925...</td>\n",
       "      <td>1.1249...</td>\n",
       "      <td>12.265078</td>\n",
       "      <td>10.516051</td>\n",
       "      <td>1.204280</td>\n",
       "      <td>0.594386</td>\n",
       "      <td>1.3476...</td>\n",
       "      <td>6.0401...</td>\n",
       "    </tr>\n",
       "    <tr>\n",
       "      <th>std</th>\n",
       "      <td>6.7514...</td>\n",
       "      <td>4062.0...</td>\n",
       "      <td>10992....</td>\n",
       "      <td>4.3593...</td>\n",
       "      <td>0.0000...</td>\n",
       "      <td>5.6954...</td>\n",
       "      <td>9.4119...</td>\n",
       "      <td>40.867720</td>\n",
       "      <td>7.210005</td>\n",
       "      <td>0.563359</td>\n",
       "      <td>0.271242</td>\n",
       "      <td>1.0074...</td>\n",
       "      <td>5.1002...</td>\n",
       "    </tr>\n",
       "    <tr>\n",
       "      <th>min</th>\n",
       "      <td>6.6602...</td>\n",
       "      <td>11.000000</td>\n",
       "      <td>0.000000</td>\n",
       "      <td>6.6715...</td>\n",
       "      <td>4.1969...</td>\n",
       "      <td>6.6750...</td>\n",
       "      <td>7.8321...</td>\n",
       "      <td>0.000000</td>\n",
       "      <td>2.000000</td>\n",
       "      <td>1.000000</td>\n",
       "      <td>0.044333</td>\n",
       "      <td>1.0113...</td>\n",
       "      <td>1.7401...</td>\n",
       "    </tr>\n",
       "    <tr>\n",
       "      <th>25%</th>\n",
       "      <td>6.7623...</td>\n",
       "      <td>494.75...</td>\n",
       "      <td>1385.2...</td>\n",
       "      <td>6.7324...</td>\n",
       "      <td>4.1969...</td>\n",
       "      <td>7.0863...</td>\n",
       "      <td>4.1969...</td>\n",
       "      <td>10.000000</td>\n",
       "      <td>10.000000</td>\n",
       "      <td>1.000000</td>\n",
       "      <td>0.363272</td>\n",
       "      <td>5.3893...</td>\n",
       "      <td>1.6234...</td>\n",
       "    </tr>\n",
       "    <tr>\n",
       "      <th>50%</th>\n",
       "      <td>7.1100...</td>\n",
       "      <td>1094.0...</td>\n",
       "      <td>3183.0...</td>\n",
       "      <td>6.7570...</td>\n",
       "      <td>4.1969...</td>\n",
       "      <td>7.7559...</td>\n",
       "      <td>4.1969...</td>\n",
       "      <td>11.000000</td>\n",
       "      <td>10.000000</td>\n",
       "      <td>1.000000</td>\n",
       "      <td>0.587797</td>\n",
       "      <td>1.1863...</td>\n",
       "      <td>4.9479...</td>\n",
       "    </tr>\n",
       "    <tr>\n",
       "      <th>75%</th>\n",
       "      <td>7.9280...</td>\n",
       "      <td>2673.2...</td>\n",
       "      <td>9028.7...</td>\n",
       "      <td>7.0314...</td>\n",
       "      <td>4.1969...</td>\n",
       "      <td>7.9479...</td>\n",
       "      <td>4.1969...</td>\n",
       "      <td>12.000000</td>\n",
       "      <td>10.000000</td>\n",
       "      <td>1.000000</td>\n",
       "      <td>0.844247</td>\n",
       "      <td>1.9566...</td>\n",
       "      <td>9.2156...</td>\n",
       "    </tr>\n",
       "    <tr>\n",
       "      <th>max</th>\n",
       "      <td>8.9242...</td>\n",
       "      <td>69521....</td>\n",
       "      <td>142035...</td>\n",
       "      <td>8.5581...</td>\n",
       "      <td>4.1969...</td>\n",
       "      <td>8.6501...</td>\n",
       "      <td>7.8746...</td>\n",
       "      <td>1776.0...</td>\n",
       "      <td>170.00...</td>\n",
       "      <td>4.000000</td>\n",
       "      <td>1.000000</td>\n",
       "      <td>4.8801...</td>\n",
       "      <td>2.7341...</td>\n",
       "    </tr>\n",
       "  </tbody>\n",
       "</table>\n",
       "</div>"
      ],
      "text/plain": [
       "        tweet_id  retweet_count  favorite_count  in_reply_to_status_id  \\\n",
       "count  2.0560...  2056.0...      2056.0...       2.3000...               \n",
       "mean   7.3770...  2324.1...      7265.5...       6.9781...               \n",
       "std    6.7514...  4062.0...      10992....       4.3593...               \n",
       "min    6.6602...  11.000000       0.000000       6.6715...               \n",
       "25%    6.7623...  494.75...      1385.2...       6.7324...               \n",
       "50%    7.1100...  1094.0...      3183.0...       6.7570...               \n",
       "75%    7.9280...  2673.2...      9028.7...       7.0314...               \n",
       "max    8.9242...  69521....      142035...       8.5581...               \n",
       "\n",
       "       in_reply_to_user_id  retweeted_status_id  retweeted_status_user_id  \\\n",
       "count  2.3000...            7.0000...            7.0000...                  \n",
       "mean   4.1969...            7.5925...            1.1249...                  \n",
       "std    0.0000...            5.6954...            9.4119...                  \n",
       "min    4.1969...            6.6750...            7.8321...                  \n",
       "25%    4.1969...            7.0863...            4.1969...                  \n",
       "50%    4.1969...            7.7559...            4.1969...                  \n",
       "75%    4.1969...            7.9479...            4.1969...                  \n",
       "max    4.1969...            8.6501...            7.8746...                  \n",
       "\n",
       "       rating_numerator  rating_denominator    img_num    p1_conf    p2_conf  \\\n",
       "count  2056.0...         2056.0...           2056.0...  2056.0...  2.0560...   \n",
       "mean   12.265078         10.516051            1.204280   0.594386  1.3476...   \n",
       "std    40.867720          7.210005            0.563359   0.271242  1.0074...   \n",
       "min     0.000000          2.000000            1.000000   0.044333  1.0113...   \n",
       "25%    10.000000         10.000000            1.000000   0.363272  5.3893...   \n",
       "50%    11.000000         10.000000            1.000000   0.587797  1.1863...   \n",
       "75%    12.000000         10.000000            1.000000   0.844247  1.9566...   \n",
       "max    1776.0...         170.00...            4.000000   1.000000  4.8801...   \n",
       "\n",
       "         p3_conf  \n",
       "count  2.0560...  \n",
       "mean   6.0401...  \n",
       "std    5.1002...  \n",
       "min    1.7401...  \n",
       "25%    1.6234...  \n",
       "50%    4.9479...  \n",
       "75%    9.2156...  \n",
       "max    2.7341...  "
      ]
     },
     "execution_count": 11,
     "metadata": {},
     "output_type": "execute_result"
    }
   ],
   "source": [
    "df_final.describe()"
   ]
  },
  {
   "cell_type": "code",
   "execution_count": 12,
   "id": "0d029501",
   "metadata": {},
   "outputs": [
    {
     "data": {
      "text/html": [
       "<div>\n",
       "<style scoped>\n",
       "    .dataframe tbody tr th:only-of-type {\n",
       "        vertical-align: middle;\n",
       "    }\n",
       "\n",
       "    .dataframe tbody tr th {\n",
       "        vertical-align: top;\n",
       "    }\n",
       "\n",
       "    .dataframe thead th {\n",
       "        text-align: right;\n",
       "    }\n",
       "</style>\n",
       "<table border=\"1\" class=\"dataframe\">\n",
       "  <thead>\n",
       "    <tr style=\"text-align: right;\">\n",
       "      <th></th>\n",
       "      <th>timestamp</th>\n",
       "      <th>source</th>\n",
       "      <th>text</th>\n",
       "      <th>retweeted_status_timestamp</th>\n",
       "      <th>expanded_urls</th>\n",
       "      <th>name</th>\n",
       "      <th>doggo</th>\n",
       "      <th>floofer</th>\n",
       "      <th>pupper</th>\n",
       "      <th>puppo</th>\n",
       "      <th>jpg_url</th>\n",
       "      <th>p1</th>\n",
       "      <th>p2</th>\n",
       "      <th>p3</th>\n",
       "    </tr>\n",
       "  </thead>\n",
       "  <tbody>\n",
       "    <tr>\n",
       "      <th>count</th>\n",
       "      <td>2056</td>\n",
       "      <td>2056</td>\n",
       "      <td>2056</td>\n",
       "      <td>70</td>\n",
       "      <td>2056</td>\n",
       "      <td>2056</td>\n",
       "      <td>2056</td>\n",
       "      <td>2056</td>\n",
       "      <td>2056</td>\n",
       "      <td>2056</td>\n",
       "      <td>2056</td>\n",
       "      <td>2056</td>\n",
       "      <td>2056</td>\n",
       "      <td>2056</td>\n",
       "    </tr>\n",
       "    <tr>\n",
       "      <th>unique</th>\n",
       "      <td>2056</td>\n",
       "      <td>3</td>\n",
       "      <td>2056</td>\n",
       "      <td>70</td>\n",
       "      <td>2056</td>\n",
       "      <td>934</td>\n",
       "      <td>2</td>\n",
       "      <td>2</td>\n",
       "      <td>2</td>\n",
       "      <td>2</td>\n",
       "      <td>1997</td>\n",
       "      <td>377</td>\n",
       "      <td>402</td>\n",
       "      <td>407</td>\n",
       "    </tr>\n",
       "    <tr>\n",
       "      <th>top</th>\n",
       "      <td>2015-1...</td>\n",
       "      <td>&lt;a hre...</td>\n",
       "      <td>Here w...</td>\n",
       "      <td>2015-1...</td>\n",
       "      <td>https:...</td>\n",
       "      <td>None</td>\n",
       "      <td>None</td>\n",
       "      <td>None</td>\n",
       "      <td>None</td>\n",
       "      <td>None</td>\n",
       "      <td>https:...</td>\n",
       "      <td>golden...</td>\n",
       "      <td>Labrad...</td>\n",
       "      <td>Labrad...</td>\n",
       "    </tr>\n",
       "    <tr>\n",
       "      <th>freq</th>\n",
       "      <td>1</td>\n",
       "      <td>2016</td>\n",
       "      <td>1</td>\n",
       "      <td>1</td>\n",
       "      <td>1</td>\n",
       "      <td>570</td>\n",
       "      <td>1978</td>\n",
       "      <td>2048</td>\n",
       "      <td>1836</td>\n",
       "      <td>2032</td>\n",
       "      <td>2</td>\n",
       "      <td>150</td>\n",
       "      <td>104</td>\n",
       "      <td>79</td>\n",
       "    </tr>\n",
       "  </tbody>\n",
       "</table>\n",
       "</div>"
      ],
      "text/plain": [
       "        timestamp     source       text retweeted_status_timestamp  \\\n",
       "count        2056       2056       2056         70                   \n",
       "unique       2056          3       2056         70                   \n",
       "top     2015-1...  <a hre...  Here w...  2015-1...                   \n",
       "freq            1       2016          1          1                   \n",
       "\n",
       "       expanded_urls  name doggo floofer pupper puppo    jpg_url         p1  \\\n",
       "count        2056     2056  2056    2056   2056  2056       2056       2056   \n",
       "unique       2056      934     2       2      2     2       1997        377   \n",
       "top     https:...     None  None    None   None  None  https:...  golden...   \n",
       "freq            1      570  1978    2048   1836  2032          2        150   \n",
       "\n",
       "               p2         p3  \n",
       "count        2056       2056  \n",
       "unique        402        407  \n",
       "top     Labrad...  Labrad...  \n",
       "freq          104         79  "
      ]
     },
     "execution_count": 12,
     "metadata": {},
     "output_type": "execute_result"
    }
   ],
   "source": [
    "df_final.describe(include=[object])"
   ]
  },
  {
   "cell_type": "code",
   "execution_count": 13,
   "id": "f2951365",
   "metadata": {},
   "outputs": [
    {
     "data": {
      "text/plain": [
       "10024"
      ]
     },
     "execution_count": 13,
     "metadata": {},
     "output_type": "execute_result"
    }
   ],
   "source": [
    "#Cheking for nulls\n",
    "df_final.isnull().values.sum()"
   ]
  },
  {
   "cell_type": "code",
   "execution_count": 14,
   "id": "3d1cdda1",
   "metadata": {},
   "outputs": [
    {
     "data": {
      "text/plain": [
       "tweet_id                         0\n",
       "retweet_count                    0\n",
       "favorite_count                   0\n",
       "in_reply_to_status_id         2033\n",
       "in_reply_to_user_id           2033\n",
       "timestamp                        0\n",
       "source                           0\n",
       "text                             0\n",
       "retweeted_status_id           1986\n",
       "retweeted_status_user_id      1986\n",
       "retweeted_status_timestamp    1986\n",
       "expanded_urls                    0\n",
       "rating_numerator                 0\n",
       "rating_denominator               0\n",
       "name                             0\n",
       "doggo                            0\n",
       "floofer                          0\n",
       "pupper                           0\n",
       "puppo                            0\n",
       "jpg_url                          0\n",
       "img_num                          0\n",
       "p1                               0\n",
       "p1_conf                          0\n",
       "p1_dog                           0\n",
       "p2                               0\n",
       "p2_conf                          0\n",
       "p2_dog                           0\n",
       "p3                               0\n",
       "p3_conf                          0\n",
       "p3_dog                           0\n",
       "dtype: int64"
      ]
     },
     "execution_count": 14,
     "metadata": {},
     "output_type": "execute_result"
    }
   ],
   "source": [
    "df_final.isnull().sum()"
   ]
  },
  {
   "cell_type": "code",
   "execution_count": 15,
   "id": "b1ff331e",
   "metadata": {},
   "outputs": [
    {
     "data": {
      "text/plain": [
       "0         2\n",
       "1         5\n",
       "2         9\n",
       "3        19\n",
       "4        16\n",
       "5        34\n",
       "6        32\n",
       "7        52\n",
       "8        95\n",
       "9       151\n",
       "10      425\n",
       "11      413\n",
       "12      471\n",
       "13      275\n",
       "14       37\n",
       "15        1\n",
       "24        1\n",
       "26        1\n",
       "27        1\n",
       "44        1\n",
       "45        1\n",
       "50        1\n",
       "60        1\n",
       "75        1\n",
       "80        1\n",
       "84        1\n",
       "88        1\n",
       "99        1\n",
       "121       1\n",
       "143       1\n",
       "144       1\n",
       "165       1\n",
       "204       1\n",
       "420       1\n",
       "1776      1\n",
       "Name: rating_numerator, dtype: int64"
      ]
     },
     "execution_count": 15,
     "metadata": {},
     "output_type": "execute_result"
    }
   ],
   "source": [
    "#Checking numerator rating\n",
    "df_final.rating_numerator.value_counts().sort_index(ascending=True)"
   ]
  },
  {
   "cell_type": "code",
   "execution_count": 16,
   "id": "af5b122d",
   "metadata": {},
   "outputs": [
    {
     "data": {
      "text/plain": [
       "count    2056.0...\n",
       "mean     12.265078\n",
       "std      40.867720\n",
       "min       0.000000\n",
       "25%      10.000000\n",
       "50%      11.000000\n",
       "75%      12.000000\n",
       "max      1776.0...\n",
       "Name: rating_numerator, dtype: float64"
      ]
     },
     "execution_count": 16,
     "metadata": {},
     "output_type": "execute_result"
    }
   ],
   "source": [
    "df_final.rating_numerator.describe()"
   ]
  },
  {
   "cell_type": "raw",
   "id": "7b6bffe9",
   "metadata": {},
   "source": [
    "rating_numerator.describe()"
   ]
  },
  {
   "cell_type": "code",
   "execution_count": 17,
   "id": "1abfa0da",
   "metadata": {},
   "outputs": [
    {
     "data": {
      "text/plain": [
       "2         1\n",
       "7         1\n",
       "10     2038\n",
       "11        2\n",
       "20        1\n",
       "40        1\n",
       "50        3\n",
       "70        1\n",
       "80        2\n",
       "90        1\n",
       "110       1\n",
       "120       1\n",
       "130       1\n",
       "150       1\n",
       "170       1\n",
       "Name: rating_denominator, dtype: int64"
      ]
     },
     "execution_count": 17,
     "metadata": {},
     "output_type": "execute_result"
    }
   ],
   "source": [
    "#Checking Denominator rating\n",
    "df_final.rating_denominator.value_counts().sort_index(ascending=True)"
   ]
  },
  {
   "cell_type": "code",
   "execution_count": 18,
   "id": "1f57d0b8",
   "metadata": {},
   "outputs": [
    {
     "data": {
      "text/plain": [
       "0"
      ]
     },
     "execution_count": 18,
     "metadata": {},
     "output_type": "execute_result"
    }
   ],
   "source": [
    "#Inspecting for duplicates\n",
    "df_final.duplicated().sum()"
   ]
  },
  {
   "cell_type": "code",
   "execution_count": 19,
   "id": "189f7b7e",
   "metadata": {},
   "outputs": [
    {
     "data": {
      "text/html": [
       "<div>\n",
       "<style scoped>\n",
       "    .dataframe tbody tr th:only-of-type {\n",
       "        vertical-align: middle;\n",
       "    }\n",
       "\n",
       "    .dataframe tbody tr th {\n",
       "        vertical-align: top;\n",
       "    }\n",
       "\n",
       "    .dataframe thead th {\n",
       "        text-align: right;\n",
       "    }\n",
       "</style>\n",
       "<table border=\"1\" class=\"dataframe\">\n",
       "  <thead>\n",
       "    <tr style=\"text-align: right;\">\n",
       "      <th></th>\n",
       "      <th>p1</th>\n",
       "      <th>p2</th>\n",
       "      <th>p3</th>\n",
       "    </tr>\n",
       "  </thead>\n",
       "  <tbody>\n",
       "    <tr>\n",
       "      <th>count</th>\n",
       "      <td>2056</td>\n",
       "      <td>2056</td>\n",
       "      <td>2056</td>\n",
       "    </tr>\n",
       "    <tr>\n",
       "      <th>unique</th>\n",
       "      <td>377</td>\n",
       "      <td>402</td>\n",
       "      <td>407</td>\n",
       "    </tr>\n",
       "    <tr>\n",
       "      <th>top</th>\n",
       "      <td>golden_retriever</td>\n",
       "      <td>Labrador_retriever</td>\n",
       "      <td>Labrador_retriever</td>\n",
       "    </tr>\n",
       "    <tr>\n",
       "      <th>freq</th>\n",
       "      <td>150</td>\n",
       "      <td>104</td>\n",
       "      <td>79</td>\n",
       "    </tr>\n",
       "  </tbody>\n",
       "</table>\n",
       "</div>"
      ],
      "text/plain": [
       "                      p1                  p2                  p3\n",
       "count               2056                2056                2056\n",
       "unique               377                 402                 407\n",
       "top     golden_retriever  Labrador_retriever  Labrador_retriever\n",
       "freq                 150                 104                  79"
      ]
     },
     "execution_count": 19,
     "metadata": {},
     "output_type": "execute_result"
    }
   ],
   "source": [
    "pd.set_option(\"max_colwidth\", 30)\n",
    "#Inspecting dog breeds\n",
    "df_final[['p1', 'p2', 'p3']].describe(include=['object'])"
   ]
  },
  {
   "cell_type": "code",
   "execution_count": 20,
   "id": "17ced69f",
   "metadata": {},
   "outputs": [
    {
     "data": {
      "text/html": [
       "<div>\n",
       "<style scoped>\n",
       "    .dataframe tbody tr th:only-of-type {\n",
       "        vertical-align: middle;\n",
       "    }\n",
       "\n",
       "    .dataframe tbody tr th {\n",
       "        vertical-align: top;\n",
       "    }\n",
       "\n",
       "    .dataframe thead th {\n",
       "        text-align: right;\n",
       "    }\n",
       "</style>\n",
       "<table border=\"1\" class=\"dataframe\">\n",
       "  <thead>\n",
       "    <tr style=\"text-align: right;\">\n",
       "      <th></th>\n",
       "      <th>p1_conf</th>\n",
       "      <th>p2_conf</th>\n",
       "      <th>p3_conf</th>\n",
       "    </tr>\n",
       "  </thead>\n",
       "  <tbody>\n",
       "    <tr>\n",
       "      <th>min</th>\n",
       "      <td>0.04433</td>\n",
       "      <td>0.00000</td>\n",
       "      <td>0.00000</td>\n",
       "    </tr>\n",
       "    <tr>\n",
       "      <th>max</th>\n",
       "      <td>1.00000</td>\n",
       "      <td>0.48801</td>\n",
       "      <td>0.27342</td>\n",
       "    </tr>\n",
       "    <tr>\n",
       "      <th>mean</th>\n",
       "      <td>0.59439</td>\n",
       "      <td>0.13477</td>\n",
       "      <td>0.06040</td>\n",
       "    </tr>\n",
       "  </tbody>\n",
       "</table>\n",
       "</div>"
      ],
      "text/plain": [
       "      p1_conf  p2_conf  p3_conf\n",
       "min   0.04433  0.00000  0.00000\n",
       "max   1.00000  0.48801  0.27342\n",
       "mean  0.59439  0.13477  0.06040"
      ]
     },
     "execution_count": 20,
     "metadata": {},
     "output_type": "execute_result"
    }
   ],
   "source": [
    "#Inspecting confidence levels\n",
    "df_final[['p1_conf', 'p2_conf',\n",
    "          'p3_conf']].describe().loc[['min', 'max', 'mean']].round(5)"
   ]
  },
  {
   "cell_type": "code",
   "execution_count": 21,
   "id": "20d3bdd1",
   "metadata": {},
   "outputs": [
    {
     "data": {
      "text/html": [
       "<div>\n",
       "<style scoped>\n",
       "    .dataframe tbody tr th:only-of-type {\n",
       "        vertical-align: middle;\n",
       "    }\n",
       "\n",
       "    .dataframe tbody tr th {\n",
       "        vertical-align: top;\n",
       "    }\n",
       "\n",
       "    .dataframe thead th {\n",
       "        text-align: right;\n",
       "    }\n",
       "</style>\n",
       "<table border=\"1\" class=\"dataframe\">\n",
       "  <thead>\n",
       "    <tr style=\"text-align: right;\">\n",
       "      <th></th>\n",
       "      <th>doggo</th>\n",
       "      <th>floofer</th>\n",
       "      <th>pupper</th>\n",
       "      <th>puppo</th>\n",
       "    </tr>\n",
       "  </thead>\n",
       "  <tbody>\n",
       "    <tr>\n",
       "      <th>None</th>\n",
       "      <td>1978.0</td>\n",
       "      <td>2048.0</td>\n",
       "      <td>1836.0</td>\n",
       "      <td>2032.0</td>\n",
       "    </tr>\n",
       "    <tr>\n",
       "      <th>doggo</th>\n",
       "      <td>78.0</td>\n",
       "      <td>NaN</td>\n",
       "      <td>NaN</td>\n",
       "      <td>NaN</td>\n",
       "    </tr>\n",
       "    <tr>\n",
       "      <th>floofer</th>\n",
       "      <td>NaN</td>\n",
       "      <td>8.0</td>\n",
       "      <td>NaN</td>\n",
       "      <td>NaN</td>\n",
       "    </tr>\n",
       "    <tr>\n",
       "      <th>pupper</th>\n",
       "      <td>NaN</td>\n",
       "      <td>NaN</td>\n",
       "      <td>220.0</td>\n",
       "      <td>NaN</td>\n",
       "    </tr>\n",
       "    <tr>\n",
       "      <th>puppo</th>\n",
       "      <td>NaN</td>\n",
       "      <td>NaN</td>\n",
       "      <td>NaN</td>\n",
       "      <td>24.0</td>\n",
       "    </tr>\n",
       "  </tbody>\n",
       "</table>\n",
       "</div>"
      ],
      "text/plain": [
       "          doggo  floofer  pupper   puppo\n",
       "None     1978.0   2048.0  1836.0  2032.0\n",
       "doggo      78.0      NaN     NaN     NaN\n",
       "floofer     NaN      8.0     NaN     NaN\n",
       "pupper      NaN      NaN   220.0     NaN\n",
       "puppo       NaN      NaN     NaN    24.0"
      ]
     },
     "execution_count": 21,
     "metadata": {},
     "output_type": "execute_result"
    }
   ],
   "source": [
    "#Inspecting dog stages\n",
    "df_final[['doggo', 'floofer', 'pupper', 'puppo']].apply(pd.Series.value_counts)"
   ]
  },
  {
   "cell_type": "code",
   "execution_count": 22,
   "id": "acf9c0ef",
   "metadata": {},
   "outputs": [
    {
     "data": {
      "text/plain": [
       "50      None\n",
       "51         a\n",
       "52     Carll\n",
       "53    Klevin\n",
       "54      None\n",
       "55      Keet\n",
       "56      None\n",
       "57      Dave\n",
       "58     Clybe\n",
       "59      Gabe\n",
       "60      None\n",
       "Name: name, dtype: object"
      ]
     },
     "execution_count": 22,
     "metadata": {},
     "output_type": "execute_result"
    }
   ],
   "source": [
    "#Inspecting Names\n",
    "df_final.name.loc[50:60]"
   ]
  },
  {
   "cell_type": "code",
   "execution_count": 23,
   "id": "eb1db348",
   "metadata": {},
   "outputs": [
    {
     "data": {
      "text/plain": [
       "favorite_count               0\n",
       "p1                Afghan_hound\n",
       "p2                Afghan_hound\n",
       "p3                Afghan_hound\n",
       "dtype: object"
      ]
     },
     "execution_count": 23,
     "metadata": {},
     "output_type": "execute_result"
    }
   ],
   "source": [
    "#Inspecting favorite and retweet count\n",
    "df_final[['favorite_count', 'p1', 'p2', 'p3']].min()"
   ]
  },
  {
   "cell_type": "code",
   "execution_count": 24,
   "id": "52b71843",
   "metadata": {},
   "outputs": [
    {
     "data": {
      "text/plain": [
       "retweet_count          69521\n",
       "p1                     zebra\n",
       "p2               wood_rabbit\n",
       "p3                     zebra\n",
       "dtype: object"
      ]
     },
     "execution_count": 24,
     "metadata": {},
     "output_type": "execute_result"
    }
   ],
   "source": [
    "df_final[['retweet_count', 'p1', 'p2', 'p3']].max()"
   ]
  },
  {
   "cell_type": "markdown",
   "id": "1b9a2715",
   "metadata": {},
   "source": [
    " ## Observations:\n",
    " Quality Issues:\n",
    " - Completeness: 10124 missing records.\n",
    " - Incorrect datatype in columns: `\"tweet_id\"`,`\"timestamp\"` \n",
    " - The `\"name\"` column has accuracy issues\n",
    " - The `\"in_reply_to_status_id\"`, `\"in_reply_to_user_id`` columns has missing values and we are not interest in replies.\n",
    " - The `\"p1\"`,`\"p2\"`,`\"p3\"` columns with validity and consistency issues\n",
    " - The `\"p1_dog\"`,`\"p2_dog\"`,`\"p3_dog\"` columns  with validity issues\n",
    " - We can observe that there are some 'None',objects present in `\"doggo\"`,`\"floofer\"`,`\"pupper\"` and`\"puppo\"` which have to be convert into 'NaN'\n",
    "\n",
    "- The `\"retweeted_status_id\"`, `\"retweeted_status_user_id\"`,`\"retweeted_status_timestamp\"` are related to retweets should be dropped\n",
    " \n",
    " \n",
    " \n",
    "## Tidyness\n",
    "- The `\"p1_conf\"`,`\"p2_conf\"`,`\"p3_conf\"` are related to dog test, shoud be converted to one column\n",
    "- The `\"doggo\"`,`\"floofer\"`,`\"pupper\"` and`\"puppo\"` are related to dog stage and doesnt follow rules of tidy data."
   ]
  },
  {
   "cell_type": "code",
   "execution_count": 25,
   "id": "fc0e1abf",
   "metadata": {},
   "outputs": [],
   "source": [
    "#Creating copies before cleaning\n",
    "# Making a copies of original pieces\n",
    "twitter_api_clean = twitter_api.copy()\n",
    "archive_clean = archive.copy()\n",
    "predict_clean = predict.copy()"
   ]
  },
  {
   "cell_type": "markdown",
   "id": "47f25a10",
   "metadata": {},
   "source": [
    "## Clean"
   ]
  },
  {
   "cell_type": "markdown",
   "id": "da4fa1b6",
   "metadata": {},
   "source": [
    "### 1. Define\n",
    "Using pd.isna() on:\n",
    "`'in_reply_to_status_id','in_reply_to_user_id','retweeted_status_id',\n",
    " 'retweeted_status_user_id','retweeted_status_timestamp'`\n"
   ]
  },
  {
   "cell_type": "markdown",
   "id": "57dd2d1d",
   "metadata": {},
   "source": [
    "### Code"
   ]
  },
  {
   "cell_type": "code",
   "execution_count": 26,
   "id": "7a56ca23",
   "metadata": {},
   "outputs": [
    {
     "name": "stdout",
     "output_type": "stream",
     "text": [
      "in_reply_to_status_id         2278\n",
      "in_reply_to_user_id           2278\n",
      "retweeted_status_id           2175\n",
      "retweeted_status_user_id      2175\n",
      "retweeted_status_timestamp    2175\n",
      "dtype: int64\n"
     ]
    }
   ],
   "source": [
    "null_counts = archive_clean[['in_reply_to_status_id', 'in_reply_to_user_id',                              'retweeted_status_id', 'retweeted_status_user_id',                              'retweeted_status_timestamp']].isnull().sum()\n",
    "print(null_counts)\n"
   ]
  },
  {
   "cell_type": "markdown",
   "id": "81ea7a2b",
   "metadata": {},
   "source": [
    "### Test"
   ]
  },
  {
   "cell_type": "code",
   "execution_count": 27,
   "id": "ffd8a53c",
   "metadata": {},
   "outputs": [
    {
     "name": "stdout",
     "output_type": "stream",
     "text": [
      "<class 'pandas.core.frame.DataFrame'>\n",
      "RangeIndex: 2356 entries, 0 to 2355\n",
      "Data columns (total 17 columns):\n",
      " #   Column                      Non-Null Count  Dtype  \n",
      "---  ------                      --------------  -----  \n",
      " 0   tweet_id                    2356 non-null   int64  \n",
      " 1   in_reply_to_status_id       78 non-null     float64\n",
      " 2   in_reply_to_user_id         78 non-null     float64\n",
      " 3   timestamp                   2356 non-null   object \n",
      " 4   source                      2356 non-null   object \n",
      " 5   text                        2356 non-null   object \n",
      " 6   retweeted_status_id         181 non-null    float64\n",
      " 7   retweeted_status_user_id    181 non-null    float64\n",
      " 8   retweeted_status_timestamp  181 non-null    object \n",
      " 9   expanded_urls               2297 non-null   object \n",
      " 10  rating_numerator            2356 non-null   int64  \n",
      " 11  rating_denominator          2356 non-null   int64  \n",
      " 12  name                        2356 non-null   object \n",
      " 13  doggo                       2356 non-null   object \n",
      " 14  floofer                     2356 non-null   object \n",
      " 15  pupper                      2356 non-null   object \n",
      " 16  puppo                       2356 non-null   object \n",
      "dtypes: float64(4), int64(3), object(10)\n",
      "memory usage: 313.0+ KB\n"
     ]
    }
   ],
   "source": [
    "archive_clean.info()"
   ]
  },
  {
   "cell_type": "markdown",
   "id": "ecd9908b",
   "metadata": {},
   "source": [
    "### 2. Define\n",
    " Fixing Dog Stages"
   ]
  },
  {
   "cell_type": "code",
   "execution_count": 28,
   "id": "cbe0b594",
   "metadata": {},
   "outputs": [],
   "source": [
    "# replacing the stage name with 1, and 'None' with 0, like a dummy variable\n",
    "make_dummy = lambda x: 0 if x == 'None' else 1\n",
    "\n",
    "archive_clean.doggo = archive_clean.doggo.apply(make_dummy)\n",
    "archive_clean.floofer = archive_clean.floofer.apply(make_dummy)\n",
    "archive_clean.pupper = archive_clean.pupper.apply(make_dummy)\n",
    "archive_clean.puppo = archive_clean.puppo.apply(make_dummy)\n",
    "\n",
    "# by adding the stage columns, we can see how many are 'none' and how many stages are set\n",
    "archive_clean['none'] = archive_clean['doggo'] + archive_clean['floofer'] + \\\n",
    "                        archive_clean['pupper'] + archive_clean['puppo']"
   ]
  },
  {
   "cell_type": "code",
   "execution_count": 29,
   "id": "e5098f38",
   "metadata": {},
   "outputs": [],
   "source": [
    "stage_none = lambda x: 1 if x == 0 else 0\n",
    "\n",
    "archive_clean['none'] = archive_clean['none'].apply(stage_none)\n",
    "\n",
    "stage = ['floofer', 'puppo', 'doggo', 'pupper', 'none']\n",
    "\n",
    "conditions = [(archive_clean[stage[0]] == 1), (archive_clean[stage[1]] == 1),\n",
    "              (archive_clean[stage[2]] == 1), (archive_clean[stage[3]] == 1),\n",
    "              (archive_clean[stage[4]] == 1)]\n",
    "\n",
    "archive_clean['stage'] = np.select(conditions, stage, default=stage[4])\n",
    "\n",
    "archive_clean.drop(stage, axis=1, inplace=True)\n",
    "\n",
    "archive_clean['stage'] = archive_clean.stage.astype('category')\n",
    "\n",
    "# Source for algorithm:    https://code.i-harness.com/en/q/19c9fbcm/en/q/19c9fbc"
   ]
  },
  {
   "cell_type": "markdown",
   "id": "b8fd800f",
   "metadata": {},
   "source": [
    "### Test"
   ]
  },
  {
   "cell_type": "code",
   "execution_count": 30,
   "id": "524c92da",
   "metadata": {},
   "outputs": [
    {
     "data": {
      "text/plain": [
       "none       1976\n",
       "pupper      245\n",
       "doggo        95\n",
       "puppo        30\n",
       "floofer      10\n",
       "Name: stage, dtype: int64"
      ]
     },
     "execution_count": 30,
     "metadata": {},
     "output_type": "execute_result"
    }
   ],
   "source": [
    "archive_clean.stage.value_counts()"
   ]
  },
  {
   "cell_type": "markdown",
   "id": "af58c4cf",
   "metadata": {},
   "source": [
    "### 4. Define\n",
    " Change ['timestamp'] using pd.to_datetime"
   ]
  },
  {
   "cell_type": "markdown",
   "id": "f2b23fb9",
   "metadata": {},
   "source": [
    "### Code"
   ]
  },
  {
   "cell_type": "code",
   "execution_count": 31,
   "id": "7605d2c3",
   "metadata": {},
   "outputs": [],
   "source": [
    "archive_clean['timestamp'] = pd.to_datetime(archive_clean['timestamp'])"
   ]
  },
  {
   "cell_type": "markdown",
   "id": "e56fec6a",
   "metadata": {},
   "source": [
    "### Test"
   ]
  },
  {
   "cell_type": "code",
   "execution_count": 32,
   "id": "ff9a06ff",
   "metadata": {},
   "outputs": [
    {
     "data": {
      "text/plain": [
       "datetime64[ns, UTC]"
      ]
     },
     "execution_count": 32,
     "metadata": {},
     "output_type": "execute_result"
    }
   ],
   "source": [
    "archive_clean.timestamp.dtypes"
   ]
  },
  {
   "cell_type": "markdown",
   "id": "c7125545",
   "metadata": {},
   "source": [
    "### 5. Define\n",
    "- Change tweet_id datatype in dataframe from int64 to object "
   ]
  },
  {
   "cell_type": "markdown",
   "id": "8bdf9959",
   "metadata": {},
   "source": [
    "### Code"
   ]
  },
  {
   "cell_type": "code",
   "execution_count": 33,
   "id": "4d1c4e67",
   "metadata": {},
   "outputs": [],
   "source": [
    "archive_clean['tweet_id'] = archive_clean['tweet_id'].astype(str)\n",
    "predict_clean['tweet_id'] = archive_clean['tweet_id'].astype(str)\n",
    "twitter_api_clean['tweet_id'] = archive_clean['tweet_id'].astype(str)"
   ]
  },
  {
   "cell_type": "markdown",
   "id": "f9d2ccec",
   "metadata": {},
   "source": [
    "### Test"
   ]
  },
  {
   "cell_type": "code",
   "execution_count": 34,
   "id": "10caa40a",
   "metadata": {},
   "outputs": [
    {
     "data": {
      "text/plain": [
       "dtype('O')"
      ]
     },
     "execution_count": 34,
     "metadata": {},
     "output_type": "execute_result"
    }
   ],
   "source": [
    "archive_clean.tweet_id.dtype"
   ]
  },
  {
   "cell_type": "code",
   "execution_count": 35,
   "id": "3161aea4",
   "metadata": {},
   "outputs": [
    {
     "data": {
      "text/plain": [
       "dtype('O')"
      ]
     },
     "execution_count": 35,
     "metadata": {},
     "output_type": "execute_result"
    }
   ],
   "source": [
    "predict_clean.tweet_id.dtype"
   ]
  },
  {
   "cell_type": "code",
   "execution_count": 36,
   "id": "7325da28",
   "metadata": {},
   "outputs": [
    {
     "data": {
      "text/plain": [
       "dtype('O')"
      ]
     },
     "execution_count": 36,
     "metadata": {},
     "output_type": "execute_result"
    }
   ],
   "source": [
    "twitter_api_clean.tweet_id.dtype"
   ]
  },
  {
   "cell_type": "markdown",
   "id": "fdfb0484",
   "metadata": {},
   "source": [
    "### 6. Define\n",
    "-  Creating new 'breed' and 'confidence' collumn"
   ]
  },
  {
   "cell_type": "markdown",
   "id": "817dfc0f",
   "metadata": {},
   "source": [
    "### Code"
   ]
  },
  {
   "cell_type": "code",
   "execution_count": 37,
   "id": "f80ac47a",
   "metadata": {},
   "outputs": [
    {
     "data": {
      "text/html": [
       "<div>\n",
       "<style scoped>\n",
       "    .dataframe tbody tr th:only-of-type {\n",
       "        vertical-align: middle;\n",
       "    }\n",
       "\n",
       "    .dataframe tbody tr th {\n",
       "        vertical-align: top;\n",
       "    }\n",
       "\n",
       "    .dataframe thead th {\n",
       "        text-align: right;\n",
       "    }\n",
       "</style>\n",
       "<table border=\"1\" class=\"dataframe\">\n",
       "  <thead>\n",
       "    <tr style=\"text-align: right;\">\n",
       "      <th></th>\n",
       "      <th>tweet_id</th>\n",
       "      <th>jpg_url</th>\n",
       "      <th>img_num</th>\n",
       "      <th>p1</th>\n",
       "      <th>p1_conf</th>\n",
       "      <th>p1_dog</th>\n",
       "      <th>p2</th>\n",
       "      <th>p2_conf</th>\n",
       "      <th>p2_dog</th>\n",
       "      <th>p3</th>\n",
       "      <th>p3_conf</th>\n",
       "      <th>p3_dog</th>\n",
       "      <th>breed</th>\n",
       "      <th>confidence</th>\n",
       "    </tr>\n",
       "  </thead>\n",
       "  <tbody>\n",
       "    <tr>\n",
       "      <th>855</th>\n",
       "      <td>764857477905154048</td>\n",
       "      <td>https://pbs.twimg.com/medi...</td>\n",
       "      <td>1</td>\n",
       "      <td>car_mirror</td>\n",
       "      <td>0.379797</td>\n",
       "      <td>False</td>\n",
       "      <td>Chesapeake_Bay_retriever</td>\n",
       "      <td>0.321589</td>\n",
       "      <td>True</td>\n",
       "      <td>vizsla</td>\n",
       "      <td>0.116931</td>\n",
       "      <td>True</td>\n",
       "      <td>Unknown</td>\n",
       "      <td>0.0</td>\n",
       "    </tr>\n",
       "  </tbody>\n",
       "</table>\n",
       "</div>"
      ],
      "text/plain": [
       "               tweet_id                        jpg_url  img_num          p1  \\\n",
       "855  764857477905154048  https://pbs.twimg.com/medi...        1  car_mirror   \n",
       "\n",
       "      p1_conf  p1_dog                        p2   p2_conf  p2_dog      p3  \\\n",
       "855  0.379797   False  Chesapeake_Bay_retriever  0.321589    True  vizsla   \n",
       "\n",
       "      p3_conf  p3_dog    breed  confidence  \n",
       "855  0.116931    True  Unknown         0.0  "
      ]
     },
     "execution_count": 37,
     "metadata": {},
     "output_type": "execute_result"
    }
   ],
   "source": [
    "breed = []\n",
    "confidence = []\n",
    "\n",
    "\n",
    "def choose_breed(predict_clean):\n",
    "    if predict_clean['p1_dog'] == True:\n",
    "        breed.append(predict_clean['p1'])\n",
    "        confidence.append(predict_clean['p1_conf'])\n",
    "    else:\n",
    "        breed.append('Unknown')\n",
    "        confidence.append(0)\n",
    "\n",
    "\n",
    "# function call\n",
    "predict_clean.apply(choose_breed, axis=1)\n",
    "# add the two columns\n",
    "predict_clean['breed'] = breed\n",
    "predict_clean['confidence'] = confidence\n",
    "predict_clean.sample(1)"
   ]
  },
  {
   "cell_type": "code",
   "execution_count": 38,
   "id": "5389cecb",
   "metadata": {},
   "outputs": [],
   "source": [
    "#fixing breed spelling\n",
    "predict_clean['breed'] = predict_clean['breed'].str.replace('_', ' ')"
   ]
  },
  {
   "cell_type": "code",
   "execution_count": 39,
   "id": "bfc15193",
   "metadata": {},
   "outputs": [],
   "source": [
    "# Converting all breeds to lower case\n",
    "predict_clean['breed'] = predict_clean['breed'].str.lower()"
   ]
  },
  {
   "cell_type": "code",
   "execution_count": 40,
   "id": "b0cd0ed1",
   "metadata": {},
   "outputs": [
    {
     "data": {
      "text/plain": [
       "0       welsh springer spaniel\n",
       "1                      redbone\n",
       "2              german shepherd\n",
       "3          rhodesian ridgeback\n",
       "4           miniature pinscher\n",
       "                 ...          \n",
       "2070                    basset\n",
       "2071                    np.nan\n",
       "2072                 chihuahua\n",
       "2073                 chihuahua\n",
       "2074                    np.nan\n",
       "Name: breed, Length: 2075, dtype: object"
      ]
     },
     "execution_count": 40,
     "metadata": {},
     "output_type": "execute_result"
    }
   ],
   "source": [
    "predict_clean.breed.str.replace('unknown', 'np.nan')"
   ]
  },
  {
   "cell_type": "markdown",
   "id": "35177a17",
   "metadata": {},
   "source": [
    "### Test"
   ]
  },
  {
   "cell_type": "code",
   "execution_count": 41,
   "id": "ae81629b",
   "metadata": {},
   "outputs": [
    {
     "data": {
      "text/plain": [
       "unknown               543\n",
       "golden retriever      150\n",
       "labrador retriever    100\n",
       "pembroke               89\n",
       "chihuahua              83\n",
       "                     ... \n",
       "japanese spaniel        1\n",
       "scotch terrier          1\n",
       "standard schnauzer      1\n",
       "entlebucher             1\n",
       "clumber                 1\n",
       "Name: breed, Length: 112, dtype: int64"
      ]
     },
     "execution_count": 41,
     "metadata": {},
     "output_type": "execute_result"
    }
   ],
   "source": [
    "predict_clean.breed.value_counts()"
   ]
  },
  {
   "cell_type": "markdown",
   "id": "9f844ec6",
   "metadata": {},
   "source": [
    "### 8. Define\n",
    "- Converting None to NaN\n",
    "\n"
   ]
  },
  {
   "cell_type": "markdown",
   "id": "3f19d824",
   "metadata": {},
   "source": [
    "### Code "
   ]
  },
  {
   "cell_type": "code",
   "execution_count": 42,
   "id": "4e03acbd",
   "metadata": {},
   "outputs": [],
   "source": [
    "archive_clean.replace(to_replace='None', value=np.nan, inplace=True)\n",
    "archive_clean.replace(to_replace='Unknown', value=np.nan, inplace=True)\n",
    "archive_clean.replace(to_replace='unknown', value=np.nan, inplace=True)"
   ]
  },
  {
   "cell_type": "markdown",
   "id": "9aa9f00a",
   "metadata": {},
   "source": [
    "### Test"
   ]
  },
  {
   "cell_type": "code",
   "execution_count": 43,
   "id": "06e23859",
   "metadata": {},
   "outputs": [
    {
     "data": {
      "text/html": [
       "<div>\n",
       "<style scoped>\n",
       "    .dataframe tbody tr th:only-of-type {\n",
       "        vertical-align: middle;\n",
       "    }\n",
       "\n",
       "    .dataframe tbody tr th {\n",
       "        vertical-align: top;\n",
       "    }\n",
       "\n",
       "    .dataframe thead th {\n",
       "        text-align: right;\n",
       "    }\n",
       "</style>\n",
       "<table border=\"1\" class=\"dataframe\">\n",
       "  <thead>\n",
       "    <tr style=\"text-align: right;\">\n",
       "      <th></th>\n",
       "      <th>tweet_id</th>\n",
       "      <th>in_reply_to_status_id</th>\n",
       "      <th>in_reply_to_user_id</th>\n",
       "      <th>timestamp</th>\n",
       "      <th>source</th>\n",
       "      <th>text</th>\n",
       "      <th>retweeted_status_id</th>\n",
       "      <th>retweeted_status_user_id</th>\n",
       "      <th>retweeted_status_timestamp</th>\n",
       "      <th>expanded_urls</th>\n",
       "      <th>rating_numerator</th>\n",
       "      <th>rating_denominator</th>\n",
       "      <th>name</th>\n",
       "      <th>stage</th>\n",
       "    </tr>\n",
       "  </thead>\n",
       "  <tbody>\n",
       "    <tr>\n",
       "      <th>0</th>\n",
       "      <td>NaN</td>\n",
       "      <td>NaN</td>\n",
       "      <td>NaN</td>\n",
       "      <td>NaT</td>\n",
       "      <td>NaN</td>\n",
       "      <td>NaN</td>\n",
       "      <td>NaN</td>\n",
       "      <td>NaN</td>\n",
       "      <td>NaN</td>\n",
       "      <td>NaN</td>\n",
       "      <td>NaN</td>\n",
       "      <td>NaN</td>\n",
       "      <td>NaN</td>\n",
       "      <td>NaN</td>\n",
       "    </tr>\n",
       "    <tr>\n",
       "      <th>1</th>\n",
       "      <td>NaN</td>\n",
       "      <td>NaN</td>\n",
       "      <td>NaN</td>\n",
       "      <td>NaT</td>\n",
       "      <td>NaN</td>\n",
       "      <td>NaN</td>\n",
       "      <td>NaN</td>\n",
       "      <td>NaN</td>\n",
       "      <td>NaN</td>\n",
       "      <td>NaN</td>\n",
       "      <td>NaN</td>\n",
       "      <td>NaN</td>\n",
       "      <td>NaN</td>\n",
       "      <td>NaN</td>\n",
       "    </tr>\n",
       "    <tr>\n",
       "      <th>2</th>\n",
       "      <td>NaN</td>\n",
       "      <td>NaN</td>\n",
       "      <td>NaN</td>\n",
       "      <td>NaT</td>\n",
       "      <td>NaN</td>\n",
       "      <td>NaN</td>\n",
       "      <td>NaN</td>\n",
       "      <td>NaN</td>\n",
       "      <td>NaN</td>\n",
       "      <td>NaN</td>\n",
       "      <td>NaN</td>\n",
       "      <td>NaN</td>\n",
       "      <td>NaN</td>\n",
       "      <td>NaN</td>\n",
       "    </tr>\n",
       "    <tr>\n",
       "      <th>3</th>\n",
       "      <td>NaN</td>\n",
       "      <td>NaN</td>\n",
       "      <td>NaN</td>\n",
       "      <td>NaT</td>\n",
       "      <td>NaN</td>\n",
       "      <td>NaN</td>\n",
       "      <td>NaN</td>\n",
       "      <td>NaN</td>\n",
       "      <td>NaN</td>\n",
       "      <td>NaN</td>\n",
       "      <td>NaN</td>\n",
       "      <td>NaN</td>\n",
       "      <td>NaN</td>\n",
       "      <td>NaN</td>\n",
       "    </tr>\n",
       "    <tr>\n",
       "      <th>4</th>\n",
       "      <td>NaN</td>\n",
       "      <td>NaN</td>\n",
       "      <td>NaN</td>\n",
       "      <td>NaT</td>\n",
       "      <td>NaN</td>\n",
       "      <td>NaN</td>\n",
       "      <td>NaN</td>\n",
       "      <td>NaN</td>\n",
       "      <td>NaN</td>\n",
       "      <td>NaN</td>\n",
       "      <td>NaN</td>\n",
       "      <td>NaN</td>\n",
       "      <td>NaN</td>\n",
       "      <td>NaN</td>\n",
       "    </tr>\n",
       "    <tr>\n",
       "      <th>...</th>\n",
       "      <td>...</td>\n",
       "      <td>...</td>\n",
       "      <td>...</td>\n",
       "      <td>...</td>\n",
       "      <td>...</td>\n",
       "      <td>...</td>\n",
       "      <td>...</td>\n",
       "      <td>...</td>\n",
       "      <td>...</td>\n",
       "      <td>...</td>\n",
       "      <td>...</td>\n",
       "      <td>...</td>\n",
       "      <td>...</td>\n",
       "      <td>...</td>\n",
       "    </tr>\n",
       "    <tr>\n",
       "      <th>2351</th>\n",
       "      <td>NaN</td>\n",
       "      <td>NaN</td>\n",
       "      <td>NaN</td>\n",
       "      <td>NaT</td>\n",
       "      <td>NaN</td>\n",
       "      <td>NaN</td>\n",
       "      <td>NaN</td>\n",
       "      <td>NaN</td>\n",
       "      <td>NaN</td>\n",
       "      <td>NaN</td>\n",
       "      <td>NaN</td>\n",
       "      <td>NaN</td>\n",
       "      <td>NaN</td>\n",
       "      <td>NaN</td>\n",
       "    </tr>\n",
       "    <tr>\n",
       "      <th>2352</th>\n",
       "      <td>NaN</td>\n",
       "      <td>NaN</td>\n",
       "      <td>NaN</td>\n",
       "      <td>NaT</td>\n",
       "      <td>NaN</td>\n",
       "      <td>NaN</td>\n",
       "      <td>NaN</td>\n",
       "      <td>NaN</td>\n",
       "      <td>NaN</td>\n",
       "      <td>NaN</td>\n",
       "      <td>NaN</td>\n",
       "      <td>NaN</td>\n",
       "      <td>NaN</td>\n",
       "      <td>NaN</td>\n",
       "    </tr>\n",
       "    <tr>\n",
       "      <th>2353</th>\n",
       "      <td>NaN</td>\n",
       "      <td>NaN</td>\n",
       "      <td>NaN</td>\n",
       "      <td>NaT</td>\n",
       "      <td>NaN</td>\n",
       "      <td>NaN</td>\n",
       "      <td>NaN</td>\n",
       "      <td>NaN</td>\n",
       "      <td>NaN</td>\n",
       "      <td>NaN</td>\n",
       "      <td>NaN</td>\n",
       "      <td>NaN</td>\n",
       "      <td>NaN</td>\n",
       "      <td>NaN</td>\n",
       "    </tr>\n",
       "    <tr>\n",
       "      <th>2354</th>\n",
       "      <td>NaN</td>\n",
       "      <td>NaN</td>\n",
       "      <td>NaN</td>\n",
       "      <td>NaT</td>\n",
       "      <td>NaN</td>\n",
       "      <td>NaN</td>\n",
       "      <td>NaN</td>\n",
       "      <td>NaN</td>\n",
       "      <td>NaN</td>\n",
       "      <td>NaN</td>\n",
       "      <td>NaN</td>\n",
       "      <td>NaN</td>\n",
       "      <td>NaN</td>\n",
       "      <td>NaN</td>\n",
       "    </tr>\n",
       "    <tr>\n",
       "      <th>2355</th>\n",
       "      <td>NaN</td>\n",
       "      <td>NaN</td>\n",
       "      <td>NaN</td>\n",
       "      <td>NaT</td>\n",
       "      <td>NaN</td>\n",
       "      <td>NaN</td>\n",
       "      <td>NaN</td>\n",
       "      <td>NaN</td>\n",
       "      <td>NaN</td>\n",
       "      <td>NaN</td>\n",
       "      <td>NaN</td>\n",
       "      <td>NaN</td>\n",
       "      <td>NaN</td>\n",
       "      <td>NaN</td>\n",
       "    </tr>\n",
       "  </tbody>\n",
       "</table>\n",
       "<p>2356 rows × 14 columns</p>\n",
       "</div>"
      ],
      "text/plain": [
       "     tweet_id  in_reply_to_status_id  in_reply_to_user_id timestamp source  \\\n",
       "0         NaN                    NaN                  NaN       NaT    NaN   \n",
       "1         NaN                    NaN                  NaN       NaT    NaN   \n",
       "2         NaN                    NaN                  NaN       NaT    NaN   \n",
       "3         NaN                    NaN                  NaN       NaT    NaN   \n",
       "4         NaN                    NaN                  NaN       NaT    NaN   \n",
       "...       ...                    ...                  ...       ...    ...   \n",
       "2351      NaN                    NaN                  NaN       NaT    NaN   \n",
       "2352      NaN                    NaN                  NaN       NaT    NaN   \n",
       "2353      NaN                    NaN                  NaN       NaT    NaN   \n",
       "2354      NaN                    NaN                  NaN       NaT    NaN   \n",
       "2355      NaN                    NaN                  NaN       NaT    NaN   \n",
       "\n",
       "     text  retweeted_status_id  retweeted_status_user_id  \\\n",
       "0     NaN                  NaN                       NaN   \n",
       "1     NaN                  NaN                       NaN   \n",
       "2     NaN                  NaN                       NaN   \n",
       "3     NaN                  NaN                       NaN   \n",
       "4     NaN                  NaN                       NaN   \n",
       "...   ...                  ...                       ...   \n",
       "2351  NaN                  NaN                       NaN   \n",
       "2352  NaN                  NaN                       NaN   \n",
       "2353  NaN                  NaN                       NaN   \n",
       "2354  NaN                  NaN                       NaN   \n",
       "2355  NaN                  NaN                       NaN   \n",
       "\n",
       "     retweeted_status_timestamp expanded_urls  rating_numerator  \\\n",
       "0                           NaN           NaN               NaN   \n",
       "1                           NaN           NaN               NaN   \n",
       "2                           NaN           NaN               NaN   \n",
       "3                           NaN           NaN               NaN   \n",
       "4                           NaN           NaN               NaN   \n",
       "...                         ...           ...               ...   \n",
       "2351                        NaN           NaN               NaN   \n",
       "2352                        NaN           NaN               NaN   \n",
       "2353                        NaN           NaN               NaN   \n",
       "2354                        NaN           NaN               NaN   \n",
       "2355                        NaN           NaN               NaN   \n",
       "\n",
       "      rating_denominator name stage  \n",
       "0                    NaN  NaN   NaN  \n",
       "1                    NaN  NaN   NaN  \n",
       "2                    NaN  NaN   NaN  \n",
       "3                    NaN  NaN   NaN  \n",
       "4                    NaN  NaN   NaN  \n",
       "...                  ...  ...   ...  \n",
       "2351                 NaN  NaN   NaN  \n",
       "2352                 NaN  NaN   NaN  \n",
       "2353                 NaN  NaN   NaN  \n",
       "2354                 NaN  NaN   NaN  \n",
       "2355                 NaN  NaN   NaN  \n",
       "\n",
       "[2356 rows x 14 columns]"
      ]
     },
     "execution_count": 43,
     "metadata": {},
     "output_type": "execute_result"
    }
   ],
   "source": [
    "archive_clean[archive_clean == 'None']"
   ]
  },
  {
   "cell_type": "markdown",
   "id": "da263a57",
   "metadata": {},
   "source": [
    "# Final View"
   ]
  },
  {
   "cell_type": "code",
   "execution_count": 44,
   "id": "b054c81f",
   "metadata": {},
   "outputs": [],
   "source": [
    "df_clean = twitter_api_clean.merge(archive_clean,on='tweet_id',how=\"right\").merge(predict_clean,on='tweet_id',how=\"right\")"
   ]
  },
  {
   "cell_type": "code",
   "execution_count": 45,
   "id": "5e9e5abf",
   "metadata": {},
   "outputs": [
    {
     "data": {
      "text/html": [
       "<div>\n",
       "<style scoped>\n",
       "    .dataframe tbody tr th:only-of-type {\n",
       "        vertical-align: middle;\n",
       "    }\n",
       "\n",
       "    .dataframe tbody tr th {\n",
       "        vertical-align: top;\n",
       "    }\n",
       "\n",
       "    .dataframe thead th {\n",
       "        text-align: right;\n",
       "    }\n",
       "</style>\n",
       "<table border=\"1\" class=\"dataframe\">\n",
       "  <thead>\n",
       "    <tr style=\"text-align: right;\">\n",
       "      <th></th>\n",
       "      <th>tweet_id</th>\n",
       "      <th>retweet_count</th>\n",
       "      <th>favorite_count</th>\n",
       "      <th>in_reply_to_status_id</th>\n",
       "      <th>in_reply_to_user_id</th>\n",
       "      <th>timestamp</th>\n",
       "      <th>source</th>\n",
       "      <th>text</th>\n",
       "      <th>retweeted_status_id</th>\n",
       "      <th>retweeted_status_user_id</th>\n",
       "      <th>retweeted_status_timestamp</th>\n",
       "      <th>expanded_urls</th>\n",
       "      <th>rating_numerator</th>\n",
       "      <th>rating_denominator</th>\n",
       "      <th>name</th>\n",
       "      <th>stage</th>\n",
       "      <th>jpg_url</th>\n",
       "      <th>img_num</th>\n",
       "      <th>p1</th>\n",
       "      <th>p1_conf</th>\n",
       "      <th>p1_dog</th>\n",
       "      <th>p2</th>\n",
       "      <th>p2_conf</th>\n",
       "      <th>p2_dog</th>\n",
       "      <th>p3</th>\n",
       "      <th>p3_conf</th>\n",
       "      <th>p3_dog</th>\n",
       "      <th>breed</th>\n",
       "      <th>confidence</th>\n",
       "    </tr>\n",
       "  </thead>\n",
       "  <tbody>\n",
       "    <tr>\n",
       "      <th>1384</th>\n",
       "      <td>700796979434098688</td>\n",
       "      <td>1698.0</td>\n",
       "      <td>6209.0</td>\n",
       "      <td>NaN</td>\n",
       "      <td>NaN</td>\n",
       "      <td>2016-02-19 21:39:54+00:00</td>\n",
       "      <td>&lt;a href=\"http://twitter.co...</td>\n",
       "      <td>This is Daniel. He's a nea...</td>\n",
       "      <td>NaN</td>\n",
       "      <td>NaN</td>\n",
       "      <td>NaN</td>\n",
       "      <td>https://twitter.com/dog_ra...</td>\n",
       "      <td>7</td>\n",
       "      <td>10</td>\n",
       "      <td>Daniel</td>\n",
       "      <td>none</td>\n",
       "      <td>https://pbs.twimg.com/medi...</td>\n",
       "      <td>1</td>\n",
       "      <td>golden_retriever</td>\n",
       "      <td>0.969518</td>\n",
       "      <td>True</td>\n",
       "      <td>Labrador_retriever</td>\n",
       "      <td>0.021696</td>\n",
       "      <td>True</td>\n",
       "      <td>Border_terrier</td>\n",
       "      <td>0.002075</td>\n",
       "      <td>True</td>\n",
       "      <td>golden retriever</td>\n",
       "      <td>0.969518</td>\n",
       "    </tr>\n",
       "    <tr>\n",
       "      <th>1071</th>\n",
       "      <td>740214038584557568</td>\n",
       "      <td>1436.0</td>\n",
       "      <td>7565.0</td>\n",
       "      <td>NaN</td>\n",
       "      <td>NaN</td>\n",
       "      <td>2016-06-07 16:09:13+00:00</td>\n",
       "      <td>&lt;a href=\"http://twitter.co...</td>\n",
       "      <td>This is getting incredibly...</td>\n",
       "      <td>NaN</td>\n",
       "      <td>NaN</td>\n",
       "      <td>NaN</td>\n",
       "      <td>https://twitter.com/dog_ra...</td>\n",
       "      <td>10</td>\n",
       "      <td>10</td>\n",
       "      <td>getting</td>\n",
       "      <td>none</td>\n",
       "      <td>https://pbs.twimg.com/medi...</td>\n",
       "      <td>1</td>\n",
       "      <td>Siberian_husky</td>\n",
       "      <td>0.396495</td>\n",
       "      <td>True</td>\n",
       "      <td>malamute</td>\n",
       "      <td>0.317053</td>\n",
       "      <td>True</td>\n",
       "      <td>Eskimo_dog</td>\n",
       "      <td>0.273419</td>\n",
       "      <td>True</td>\n",
       "      <td>siberian husky</td>\n",
       "      <td>0.396495</td>\n",
       "    </tr>\n",
       "    <tr>\n",
       "      <th>827</th>\n",
       "      <td>769212283578875904</td>\n",
       "      <td>1760.0</td>\n",
       "      <td>4548.0</td>\n",
       "      <td>NaN</td>\n",
       "      <td>NaN</td>\n",
       "      <td>2016-08-26 16:37:54+00:00</td>\n",
       "      <td>&lt;a href=\"http://twitter.co...</td>\n",
       "      <td>This is DonDon. He's way u...</td>\n",
       "      <td>NaN</td>\n",
       "      <td>NaN</td>\n",
       "      <td>NaN</td>\n",
       "      <td>https://twitter.com/dog_ra...</td>\n",
       "      <td>12</td>\n",
       "      <td>10</td>\n",
       "      <td>DonDon</td>\n",
       "      <td>none</td>\n",
       "      <td>https://pbs.twimg.com/ext_...</td>\n",
       "      <td>1</td>\n",
       "      <td>sea_lion</td>\n",
       "      <td>0.519811</td>\n",
       "      <td>False</td>\n",
       "      <td>Siamese_cat</td>\n",
       "      <td>0.290971</td>\n",
       "      <td>False</td>\n",
       "      <td>black-footed_ferret</td>\n",
       "      <td>0.039967</td>\n",
       "      <td>False</td>\n",
       "      <td>unknown</td>\n",
       "      <td>0.000000</td>\n",
       "    </tr>\n",
       "  </tbody>\n",
       "</table>\n",
       "</div>"
      ],
      "text/plain": [
       "                tweet_id  retweet_count  favorite_count  \\\n",
       "1384  700796979434098688         1698.0          6209.0   \n",
       "1071  740214038584557568         1436.0          7565.0   \n",
       "827   769212283578875904         1760.0          4548.0   \n",
       "\n",
       "      in_reply_to_status_id  in_reply_to_user_id                 timestamp  \\\n",
       "1384                    NaN                  NaN 2016-02-19 21:39:54+00:00   \n",
       "1071                    NaN                  NaN 2016-06-07 16:09:13+00:00   \n",
       "827                     NaN                  NaN 2016-08-26 16:37:54+00:00   \n",
       "\n",
       "                             source                           text  \\\n",
       "1384  <a href=\"http://twitter.co...  This is Daniel. He's a nea...   \n",
       "1071  <a href=\"http://twitter.co...  This is getting incredibly...   \n",
       "827   <a href=\"http://twitter.co...  This is DonDon. He's way u...   \n",
       "\n",
       "      retweeted_status_id  retweeted_status_user_id  \\\n",
       "1384                  NaN                       NaN   \n",
       "1071                  NaN                       NaN   \n",
       "827                   NaN                       NaN   \n",
       "\n",
       "     retweeted_status_timestamp                  expanded_urls  \\\n",
       "1384                        NaN  https://twitter.com/dog_ra...   \n",
       "1071                        NaN  https://twitter.com/dog_ra...   \n",
       "827                         NaN  https://twitter.com/dog_ra...   \n",
       "\n",
       "      rating_numerator  rating_denominator     name stage  \\\n",
       "1384                 7                  10   Daniel  none   \n",
       "1071                10                  10  getting  none   \n",
       "827                 12                  10   DonDon  none   \n",
       "\n",
       "                            jpg_url  img_num                p1   p1_conf  \\\n",
       "1384  https://pbs.twimg.com/medi...        1  golden_retriever  0.969518   \n",
       "1071  https://pbs.twimg.com/medi...        1    Siberian_husky  0.396495   \n",
       "827   https://pbs.twimg.com/ext_...        1          sea_lion  0.519811   \n",
       "\n",
       "      p1_dog                  p2   p2_conf  p2_dog                   p3  \\\n",
       "1384    True  Labrador_retriever  0.021696    True       Border_terrier   \n",
       "1071    True            malamute  0.317053    True           Eskimo_dog   \n",
       "827    False         Siamese_cat  0.290971   False  black-footed_ferret   \n",
       "\n",
       "       p3_conf  p3_dog             breed  confidence  \n",
       "1384  0.002075    True  golden retriever    0.969518  \n",
       "1071  0.273419    True    siberian husky    0.396495  \n",
       "827   0.039967   False           unknown    0.000000  "
      ]
     },
     "execution_count": 45,
     "metadata": {},
     "output_type": "execute_result"
    }
   ],
   "source": [
    "df_clean.sample(3)"
   ]
  },
  {
   "cell_type": "code",
   "execution_count": 46,
   "id": "20f0305f",
   "metadata": {},
   "outputs": [],
   "source": [
    "#saving to csv\n",
    "df_clean.to_csv('twitter_archive_master.csv',index=False)"
   ]
  },
  {
   "cell_type": "markdown",
   "id": "8c684b7e",
   "metadata": {},
   "source": [
    "### Q1.How has the posting frequency of WeRateDogs changed over time?"
   ]
  },
  {
   "cell_type": "code",
   "execution_count": 47,
   "id": "071866f5",
   "metadata": {},
   "outputs": [
    {
     "data": {
      "image/png": "[encoded data removed]",
      "text/plain": [
       "<Figure size 1000x600 with 1 Axes>"
      ]
     },
     "metadata": {},
     "output_type": "display_data"
    }
   ],
   "source": [
    "# Import necessary libraries\n",
    "import seaborn as sns\n",
    "import matplotlib.pyplot as plt\n",
    "\n",
    "# Set color palette\n",
    "sns.set_palette(\"Set1\")\n",
    "\n",
    "# Set plot size and font scale\n",
    "sns.set(rc={'figure.figsize': (10, 6)})\n",
    "sns.set(font_scale=1.2)\n",
    "\n",
    "# Extract year from timestamp column\n",
    "years = df_clean.timestamp.dt.year\n",
    "\n",
    "# Create a pivot table to calculate the total favorite and retweet counts per year\n",
    "ret_fav = df_clean.pivot_table(index=years, values=['favorite_count','retweet_count'], aggfunc='sum')\n",
    "\n",
    "# Create a line plot to show retweeting and favoriting trends over time\n",
    "ax = ret_fav.plot(kind='line', linewidth=2.5)\n",
    "\n",
    "\n",
    "# Set plot title, y-label, and x-label\n",
    "plt.title('Retweeting and Favoriting Trends Over Time')\n",
    "plt.ylabel('Count')\n",
    "plt.xlabel('(Year)')\n",
    "\n",
    "# Set x-axis ticks to display years only\n",
    "ax.set_xticks(range(min(years), max(years)+1))\n",
    "ax.set_xticklabels(range(min(years), max(years)+1))\n",
    "\n",
    "# Add legend to the plot\n",
    "plt.legend(('Retweets', 'Favorites'), loc='upper right', fontsize='small')\n",
    "\n",
    "# Set figure size\n",
    "plt.gcf().set_size_inches(10, 6)\n",
    "\n",
    "# Save the plot as an image\n",
    "plt.savefig('ret_fav.png', dpi=100)\n",
    "\n",
    "# Show the plot\n",
    "plt.show()\n"
   ]
  },
  {
   "cell_type": "markdown",
   "id": "b95158df",
   "metadata": {},
   "source": [
    "-   Based on the activity over time, it is evident that there was a significant decline in the number of \"favorite_count\" and \"retweet_count\" between 2016 and 2017, with a decrease of 42.09% and 49.96% respectively.\n"
   ]
  },
  {
   "cell_type": "markdown",
   "id": "0f67f7aa",
   "metadata": {},
   "source": [
    "### Q2. Among all the breeds of dogs in WeRateDogs, which breed received the highest number of favorite counts?"
   ]
  },
  {
   "cell_type": "code",
   "execution_count": 48,
   "id": "50fc2161",
   "metadata": {},
   "outputs": [
    {
     "data": {
      "image/png": "[encoded data removed]",
      "text/plain": [
       "<Figure size 1000x800 with 1 Axes>"
      ]
     },
     "metadata": {},
     "output_type": "display_data"
    }
   ],
   "source": [
    "import matplotlib.pyplot as plt\n",
    "import seaborn as sns\n",
    "import matplotlib.ticker as ticker\n",
    "\n",
    "# Set color palette\n",
    "sns.color_palette(\"mako\", as_cmap=True)\n",
    "color = sns.color_palette(\"pastel\", 10)\n",
    "\n",
    "# Set plot size and font scale\n",
    "sns.set(rc={'figure.figsize': (10, 8)})\n",
    "sns.set(font_scale=1)\n",
    "sns.set_style(\"whitegrid\")\n",
    "\n",
    "# Filter data to top 10 breeds by favorite count\n",
    "top_breeds = df_clean[df_clean.breed != 'unknown'].groupby('breed')['favorite_count'].sum().sort_values(ascending=False)[:10]\n",
    "\n",
    "# Create a horizontal bar plot of the top 10 breeds with the highest favorite counts\n",
    "ax = sns.barplot(x=top_breeds.values, y=top_breeds.index, palette=color, orient='h')\n",
    "\n",
    "# Set plot title, x-label, and y-label\n",
    "plt.title('Most Popular Dog Breeds by Favorite Count')\n",
    "plt.xlabel('Number of Favorites')\n",
    "\n",
    "\n",
    "# set the y-axis labels to title case\n",
    "ax.set_yticklabels([label.get_text().title() for label in ax.get_yticklabels()])\n",
    "\n",
    "# Set the x-axis labels to include commas for thousands separators\n",
    "ax.get_xaxis().set_major_formatter(ticker.StrMethodFormatter('{x:,.0f}'))\n",
    "\n",
    "# Add labels to the bars in the plot\n",
    "for i, v in enumerate(ax.patches):\n",
    "    ax.text(v.get_width() + 1000, i+0.1, f\"{int(v.get_width()):,}\", color='black', fontweight='light')\n",
    "\n",
    "# Save the plot as an image with high DPI\n",
    "plt.savefig('breed', dpi=100)\n"
   ]
  },
  {
   "cell_type": "markdown",
   "id": "858a8531",
   "metadata": {},
   "source": [
    "- We can observe from the plot that the breed with the highest number of likes is \"Golden Retriever\" with 1,325,942 likes. In second place, we have the Labrador Retriever with 862,895 likes, and in third place, we have the \"Pembroke\" breed with 674,252 likes."
   ]
  },
  {
   "cell_type": "markdown",
   "id": "53c594ea",
   "metadata": {},
   "source": [
    "### Question 3: What stage of dogs received the most favorite counts?¶ "
   ]
  },
  {
   "cell_type": "code",
   "execution_count": 49,
   "id": "b4dc3532",
   "metadata": {},
   "outputs": [
    {
     "data": {
      "image/png": "[encoded data removed]",
      "text/plain": [
       "<Figure size 1000x500 with 1 Axes>"
      ]
     },
     "metadata": {},
     "output_type": "display_data"
    }
   ],
   "source": [
    "pivot_stage = df_clean.pivot_table(index=['stage'], values=['favorite_count'], aggfunc='sum')\n",
    "pivot_stage\n",
    "# Set color palette\n",
    "sns.color_palette(\"mako\", as_cmap=True)\n",
    "color = sns.color_palette(\"pastel\", 10)\n",
    "sns.set(rc={'figure.figsize': (10, 5)})\n",
    "sns.set(font_scale=1)\n",
    "\n",
    "ax = sns.barplot(y=pivot_stage.index,\n",
    "                 x='favorite_count',\n",
    "                 data=pivot_stage,\n",
    "                 palette=color,\n",
    "                 order=[\"pupper\",\"doggo\", \"floofer\",  \"puppo\"],\n",
    "                 errorbar=None)\n",
    "plt.title('Highest favorite count per stage')\n",
    "plt.ylabel('')\n",
    "plt.xlabel('')\n",
    "plt.savefig('stages')\n",
    "# Add labels to the bars in the plot\n",
    "for i, v in enumerate(ax.patches):\n",
    "    ax.text(v.get_width() + 1000, i+0.1, f\"{int(v.get_width()):,}\", color='black', fontweight='light')"
   ]
  },
  {
   "cell_type": "markdown",
   "id": "16c3c60c",
   "metadata": {},
   "source": [
    "- The data reveals a striking pattern - the \"pupper\" stage reigns supreme with a whopping 2,110,707 favorites, making up a massive 84.19% of all stage classifications. It's worth noting that this percentage doesn't even include the \"none\" stage, further emphasizing the dominance of \"pupper\" over other stage categories. This highlights the incredible impact of a cute puppy picture and how it can significantly boost the chances of getting favorited by the audience."
   ]
  },
  {
   "cell_type": "code",
   "execution_count": 50,
   "id": "1bcf579b",
   "metadata": {},
   "outputs": [
    {
     "data": {
      "image/png": "[encoded data removed]",
      "text/plain": [
       "<PIL.JpegImagePlugin.JpegImageFile image mode=RGB size=528x527>"
      ]
     },
     "execution_count": 50,
     "metadata": {},
     "output_type": "execute_result"
    }
   ],
   "source": [
    "#random top breed image\n",
    "import random\n",
    "top_breed = df_clean[df_clean[\"breed\"]==\"golden retriever\"]\n",
    "url_list = top_breed.jpg_url.tolist()\n",
    "url = random.choice(url_list)\n",
    "response = requests.get(url)\n",
    "Image.open(BytesIO(response.content))\n"
   ]
  },
  {
   "cell_type": "raw",
   "id": "b17ddbfa",
   "metadata": {},
   "source": [
    "import random\n",
    "import requests\n",
    "from PIL import Image\n",
    "from io import BytesIO\n",
    "\n",
    "top_breed = df_clean[df_clean[\"breed\"] == \"golden retriever\"]\n",
    "url = random.choice(top_breed[\"jpg_url\"].tolist())\n",
    "response = requests.get(url)\n",
    "\n",
    "img = Image.open(BytesIO(response.content))\n",
    "img.show()\n"
   ]
  }
 ],
 "metadata": {
  "kernelspec": {
   "display_name": "Python 3 (ipykernel)",
   "language": "python",
   "name": "python3"
  },
  "language_info": {
   "codemirror_mode": {
    "name": "ipython",
    "version": 3
   },
   "file_extension": ".py",
   "mimetype": "text/x-python",
   "name": "python",
   "nbconvert_exporter": "python",
   "pygments_lexer": "ipython3",
   "version": "3.10.4"
  }
 },
 "nbformat": 4,
 "nbformat_minor": 5
}
