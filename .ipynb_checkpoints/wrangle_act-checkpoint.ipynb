{
 "cells": [
  {
   "cell_type": "markdown",
   "id": "021089bb",
   "metadata": {},
   "source": [
    "# We Rate Dogs "
   ]
  },
  {
   "cell_type": "markdown",
   "id": "11ca7342",
   "metadata": {},
   "source": [
    "## Introduction"
   ]
  },
  {
   "cell_type": "code",
   "execution_count": 1,
   "id": "bd27b6e0",
   "metadata": {},
   "outputs": [],
   "source": [
    "import pandas as pd\n",
    "import seaborn as sns\n",
    "import matplotlib.pyplot as plt\n",
    "from matplotlib import rcParams\n",
    "%matplotlib inline\n",
    "from PIL import Image\n",
    "from io import BytesIO\n",
    "import numpy as np\n",
    "import requests\n",
    "import tweepy\n",
    "import json\n",
    "from PIL import Image\n",
    "from io import BytesIO\n",
    "\n",
    "pd.set_option('float_format', '{:f}'.format)"
   ]
  },
  {
   "cell_type": "markdown",
   "id": "6d85865d",
   "metadata": {},
   "source": [
    "### Gathering"
   ]
  },
  {
   "cell_type": "code",
   "execution_count": 2,
   "id": "7ec0f2b1",
   "metadata": {},
   "outputs": [
    {
     "data": {
      "text/plain": [
       "(2356, 17)"
      ]
     },
     "execution_count": 2,
     "metadata": {},
     "output_type": "execute_result"
    }
   ],
   "source": [
    "archive = pd.read_csv('twitter_archive_enhanced.csv')\n",
    "archive.shape"
   ]
  },
  {
   "cell_type": "code",
   "execution_count": 3,
   "id": "a843c390",
   "metadata": {},
   "outputs": [
    {
     "name": "stdout",
     "output_type": "stream",
     "text": [
      "200\n"
     ]
    },
    {
     "data": {
      "text/plain": [
       "(2075, 12)"
      ]
     },
     "execution_count": 3,
     "metadata": {},
     "output_type": "execute_result"
    }
   ],
   "source": [
    "url = \"https://d17h27t6h515a5.cloudfront.net/topher/2017/August/599fd2ad_image-predictions/image-predictions.tsv\"\n",
    "response = requests.get(url)\n",
    "print(response.status_code)\n",
    "\n",
    "with open(\"image_predictions.tsv\", mode='wb') as file:\n",
    "    file.write(response.content)\n",
    "\n",
    "predict = pd.read_csv('image_predictions.tsv', sep='\\t')\n",
    "predict.shape"
   ]
  },
  {
   "cell_type": "raw",
   "id": "2fc646c7",
   "metadata": {},
   "source": [
    "# set twitter dev keys\n",
    "consumer_key = \"\"\n",
    "consumer_secret = \"\"\n",
    "auth = tweepy.AppAuthHandler(consumer_key, consumer_secret)\n",
    "api = tweepy.API(auth, wait_on_rate_limit=True)\n",
    "\n",
    "tweet_ids = predict.tweet_id.values\n",
    "len(tweet_ids)"
   ]
  },
  {
   "cell_type": "raw",
   "id": "d44eec8e",
   "metadata": {},
   "source": [
    "%%time\n",
    "\n",
    "# Query Twitter's API for JSON data \n",
    "count = 0\n",
    "fails_dict = {}\n",
    "\n",
    "with open('tweet_json.txt', 'w') as outfile:\n",
    "  for tweet_id in tweet_ids:\n",
    "        count += 1\n",
    "        print(str(count) + \": \" + str(tweet_id))\n",
    "        try:\n",
    "            tweet = api.get_status(tweet_id, tweet_mode='extended')\n",
    "            json.dump(tweet._json, outfile)\n",
    "            print(\"Success\")\n",
    "            outfile.write('\\n')\n",
    "        except Exception as e:\n",
    "            print(\"Fail\")\n",
    "            fails_dict[tweet_id] = e\n",
    "            pass\n",
    "        \n",
    "\n",
    "print(fails_dict)"
   ]
  },
  {
   "cell_type": "code",
   "execution_count": 7,
   "id": "69df4f79",
   "metadata": {},
   "outputs": [],
   "source": [
    "json = pd.read_json('tweet_json.txt', lines=True)"
   ]
  },
  {
   "cell_type": "code",
   "execution_count": 9,
   "id": "4d3b39ea",
   "metadata": {},
   "outputs": [
    {
     "ename": "KeyError",
     "evalue": "'id'",
     "output_type": "error",
     "traceback": [
      "\u001b[0;31m---------------------------------------------------------------------------\u001b[0m",
      "\u001b[0;31mKeyError\u001b[0m                                  Traceback (most recent call last)",
      "File \u001b[0;32m~/opt/anaconda3/envs/py3_env/lib/python3.10/site-packages/pandas/core/indexes/base.py:3621\u001b[0m, in \u001b[0;36mIndex.get_loc\u001b[0;34m(self, key, method, tolerance)\u001b[0m\n\u001b[1;32m   3620\u001b[0m \u001b[38;5;28;01mtry\u001b[39;00m:\n\u001b[0;32m-> 3621\u001b[0m     \u001b[38;5;28;01mreturn\u001b[39;00m \u001b[38;5;28;43mself\u001b[39;49m\u001b[38;5;241;43m.\u001b[39;49m\u001b[43m_engine\u001b[49m\u001b[38;5;241;43m.\u001b[39;49m\u001b[43mget_loc\u001b[49m\u001b[43m(\u001b[49m\u001b[43mcasted_key\u001b[49m\u001b[43m)\u001b[49m\n\u001b[1;32m   3622\u001b[0m \u001b[38;5;28;01mexcept\u001b[39;00m \u001b[38;5;167;01mKeyError\u001b[39;00m \u001b[38;5;28;01mas\u001b[39;00m err:\n",
      "File \u001b[0;32m~/opt/anaconda3/envs/py3_env/lib/python3.10/site-packages/pandas/_libs/index.pyx:136\u001b[0m, in \u001b[0;36mpandas._libs.index.IndexEngine.get_loc\u001b[0;34m()\u001b[0m\n",
      "File \u001b[0;32m~/opt/anaconda3/envs/py3_env/lib/python3.10/site-packages/pandas/_libs/index.pyx:144\u001b[0m, in \u001b[0;36mpandas._libs.index.IndexEngine.get_loc\u001b[0;34m()\u001b[0m\n",
      "File \u001b[0;32mpandas/_libs/index_class_helper.pxi:20\u001b[0m, in \u001b[0;36mpandas._libs.index.Float64Engine._check_type\u001b[0;34m()\u001b[0m\n",
      "\u001b[0;31mKeyError\u001b[0m: 'id'",
      "\nThe above exception was the direct cause of the following exception:\n",
      "\u001b[0;31mKeyError\u001b[0m                                  Traceback (most recent call last)",
      "Cell \u001b[0;32mIn[9], line 1\u001b[0m\n\u001b[0;32m----> 1\u001b[0m json[\u001b[38;5;124m'\u001b[39m\u001b[38;5;124mtweet_id\u001b[39m\u001b[38;5;124m'\u001b[39m]\u001b[38;5;241m=\u001b[39m\u001b[43mjson\u001b[49m\u001b[43m[\u001b[49m\u001b[38;5;124;43m'\u001b[39;49m\u001b[38;5;124;43mid\u001b[39;49m\u001b[38;5;124;43m'\u001b[39;49m\u001b[43m]\u001b[49m\n",
      "File \u001b[0;32m~/opt/anaconda3/envs/py3_env/lib/python3.10/site-packages/pandas/core/frame.py:3505\u001b[0m, in \u001b[0;36mDataFrame.__getitem__\u001b[0;34m(self, key)\u001b[0m\n\u001b[1;32m   3503\u001b[0m \u001b[38;5;28;01mif\u001b[39;00m \u001b[38;5;28mself\u001b[39m\u001b[38;5;241m.\u001b[39mcolumns\u001b[38;5;241m.\u001b[39mnlevels \u001b[38;5;241m>\u001b[39m \u001b[38;5;241m1\u001b[39m:\n\u001b[1;32m   3504\u001b[0m     \u001b[38;5;28;01mreturn\u001b[39;00m \u001b[38;5;28mself\u001b[39m\u001b[38;5;241m.\u001b[39m_getitem_multilevel(key)\n\u001b[0;32m-> 3505\u001b[0m indexer \u001b[38;5;241m=\u001b[39m \u001b[38;5;28;43mself\u001b[39;49m\u001b[38;5;241;43m.\u001b[39;49m\u001b[43mcolumns\u001b[49m\u001b[38;5;241;43m.\u001b[39;49m\u001b[43mget_loc\u001b[49m\u001b[43m(\u001b[49m\u001b[43mkey\u001b[49m\u001b[43m)\u001b[49m\n\u001b[1;32m   3506\u001b[0m \u001b[38;5;28;01mif\u001b[39;00m is_integer(indexer):\n\u001b[1;32m   3507\u001b[0m     indexer \u001b[38;5;241m=\u001b[39m [indexer]\n",
      "File \u001b[0;32m~/opt/anaconda3/envs/py3_env/lib/python3.10/site-packages/pandas/core/indexes/base.py:3623\u001b[0m, in \u001b[0;36mIndex.get_loc\u001b[0;34m(self, key, method, tolerance)\u001b[0m\n\u001b[1;32m   3621\u001b[0m     \u001b[38;5;28;01mreturn\u001b[39;00m \u001b[38;5;28mself\u001b[39m\u001b[38;5;241m.\u001b[39m_engine\u001b[38;5;241m.\u001b[39mget_loc(casted_key)\n\u001b[1;32m   3622\u001b[0m \u001b[38;5;28;01mexcept\u001b[39;00m \u001b[38;5;167;01mKeyError\u001b[39;00m \u001b[38;5;28;01mas\u001b[39;00m err:\n\u001b[0;32m-> 3623\u001b[0m     \u001b[38;5;28;01mraise\u001b[39;00m \u001b[38;5;167;01mKeyError\u001b[39;00m(key) \u001b[38;5;28;01mfrom\u001b[39;00m \u001b[38;5;21;01merr\u001b[39;00m\n\u001b[1;32m   3624\u001b[0m \u001b[38;5;28;01mexcept\u001b[39;00m \u001b[38;5;167;01mTypeError\u001b[39;00m:\n\u001b[1;32m   3625\u001b[0m     \u001b[38;5;66;03m# If we have a listlike key, _check_indexing_error will raise\u001b[39;00m\n\u001b[1;32m   3626\u001b[0m     \u001b[38;5;66;03m#  InvalidIndexError. Otherwise we fall through and re-raise\u001b[39;00m\n\u001b[1;32m   3627\u001b[0m     \u001b[38;5;66;03m#  the TypeError.\u001b[39;00m\n\u001b[1;32m   3628\u001b[0m     \u001b[38;5;28mself\u001b[39m\u001b[38;5;241m.\u001b[39m_check_indexing_error(key)\n",
      "\u001b[0;31mKeyError\u001b[0m: 'id'"
     ]
    }
   ],
   "source": [
    "json['tweet_id']=json['id']"
   ]
  },
  {
   "cell_type": "code",
   "execution_count": null,
   "id": "e945a53b",
   "metadata": {},
   "outputs": [],
   "source": [
    "json"
   ]
  },
  {
   "cell_type": "code",
   "execution_count": null,
   "id": "84c3341a",
   "metadata": {},
   "outputs": [],
   "source": [
    "#Selecting columns \n",
    "twitter_api = json[['tweet_id','retweet_count', 'favorite_count']]"
   ]
  },
  {
   "cell_type": "code",
   "execution_count": null,
   "id": "c012c58b",
   "metadata": {},
   "outputs": [],
   "source": [
    "# Merging for Assesing\n",
    "m1 = pd.merge(twitter_api,archive, on=\"tweet_id\",how='left')\n",
    "m2 = pd.merge(m1,predict, on=\"tweet_id\",how='left')\n",
    "df_final = m2"
   ]
  },
  {
   "cell_type": "markdown",
   "id": "36218d55",
   "metadata": {},
   "source": [
    "## Assesing "
   ]
  },
  {
   "cell_type": "code",
   "execution_count": null,
   "id": "591b1a75",
   "metadata": {},
   "outputs": [],
   "source": [
    "pd.set_option(\"max_colwidth\", 10)\n",
    "pd.set_option('display.max_columns', 30)\n",
    "df_final.head()"
   ]
  },
  {
   "cell_type": "code",
   "execution_count": null,
   "id": "f977f0a6",
   "metadata": {},
   "outputs": [],
   "source": [
    "df_final.tail()"
   ]
  },
  {
   "cell_type": "code",
   "execution_count": null,
   "id": "6ddb0e3b",
   "metadata": {},
   "outputs": [],
   "source": [
    "df_final.info()"
   ]
  },
  {
   "cell_type": "code",
   "execution_count": null,
   "id": "4b4d6f12",
   "metadata": {},
   "outputs": [],
   "source": [
    "df_final.describe()"
   ]
  },
  {
   "cell_type": "code",
   "execution_count": null,
   "id": "0d029501",
   "metadata": {},
   "outputs": [],
   "source": [
    "df_final.describe(include=[object])"
   ]
  },
  {
   "cell_type": "code",
   "execution_count": null,
   "id": "f2951365",
   "metadata": {},
   "outputs": [],
   "source": [
    "#Cheking for nulls\n",
    "df_final.isnull().values.sum()"
   ]
  },
  {
   "cell_type": "code",
   "execution_count": null,
   "id": "3d1cdda1",
   "metadata": {},
   "outputs": [],
   "source": [
    "df_final.isnull().sum()"
   ]
  },
  {
   "cell_type": "code",
   "execution_count": null,
   "id": "b1ff331e",
   "metadata": {},
   "outputs": [],
   "source": [
    "#Checking numerator rating\n",
    "df_final.rating_numerator.value_counts().sort_index(ascending=True)"
   ]
  },
  {
   "cell_type": "code",
   "execution_count": null,
   "id": "af5b122d",
   "metadata": {},
   "outputs": [],
   "source": [
    "df_final.rating_numerator.describe()"
   ]
  },
  {
   "cell_type": "raw",
   "id": "7b6bffe9",
   "metadata": {},
   "source": [
    "rating_numerator.describe()"
   ]
  },
  {
   "cell_type": "code",
   "execution_count": null,
   "id": "1abfa0da",
   "metadata": {},
   "outputs": [],
   "source": [
    "#Checking Denominator rating\n",
    "df_final.rating_denominator.value_counts().sort_index(ascending=True)"
   ]
  },
  {
   "cell_type": "code",
   "execution_count": null,
   "id": "1f57d0b8",
   "metadata": {},
   "outputs": [],
   "source": [
    "#Inspecting for duplicates\n",
    "df_final.duplicated().sum()"
   ]
  },
  {
   "cell_type": "code",
   "execution_count": null,
   "id": "189f7b7e",
   "metadata": {},
   "outputs": [],
   "source": [
    "pd.set_option(\"max_colwidth\", 30)\n",
    "#Inspecting dog breeds\n",
    "df_final[['p1', 'p2', 'p3']].describe(include=['object'])"
   ]
  },
  {
   "cell_type": "code",
   "execution_count": null,
   "id": "17ced69f",
   "metadata": {},
   "outputs": [],
   "source": [
    "#Inspecting confidence levels\n",
    "df_final[['p1_conf', 'p2_conf',\n",
    "          'p3_conf']].describe().loc[['min', 'max', 'mean']].round(5)"
   ]
  },
  {
   "cell_type": "code",
   "execution_count": null,
   "id": "20d3bdd1",
   "metadata": {},
   "outputs": [],
   "source": [
    "#Inspecting dog stages\n",
    "df_final[['doggo', 'floofer', 'pupper', 'puppo']].apply(pd.Series.value_counts)"
   ]
  },
  {
   "cell_type": "code",
   "execution_count": null,
   "id": "acf9c0ef",
   "metadata": {},
   "outputs": [],
   "source": [
    "#Inspecting Names\n",
    "df_final.name.loc[50:60]"
   ]
  },
  {
   "cell_type": "code",
   "execution_count": null,
   "id": "eb1db348",
   "metadata": {},
   "outputs": [],
   "source": [
    "#Inspecting favorite and retweet count\n",
    "df_final[['favorite_count', 'p1', 'p2', 'p3']].min()"
   ]
  },
  {
   "cell_type": "code",
   "execution_count": null,
   "id": "52b71843",
   "metadata": {},
   "outputs": [],
   "source": [
    "df_final[['retweet_count', 'p1', 'p2', 'p3']].max()"
   ]
  },
  {
   "cell_type": "markdown",
   "id": "1b9a2715",
   "metadata": {},
   "source": [
    " ## Observations:\n",
    " Quality Issues:\n",
    " - Completeness: 10124 missing records.\n",
    " - Incorrect datatype in columns: `\"tweet_id\"`,`\"timestamp\"` \n",
    " - The `\"name\"` column has accuracy issues\n",
    " - The `\"in_reply_to_status_id\"`, `\"in_reply_to_user_id`` columns has missing values and we are not interest in replies.\n",
    " - The `\"p1\"`,`\"p2\"`,`\"p3\"` columns with validity and consistency issues\n",
    " - The `\"p1_dog\"`,`\"p2_dog\"`,`\"p3_dog\"` columns  with validity issues\n",
    " - We can observe that there are some 'None',objects present in `\"doggo\"`,`\"floofer\"`,`\"pupper\"` and`\"puppo\"` which have to be convert into 'NaN'\n",
    "\n",
    "- The `\"retweeted_status_id\"`, `\"retweeted_status_user_id\"`,`\"retweeted_status_timestamp\"` are related to retweets should be dropped\n",
    " \n",
    " \n",
    " \n",
    "## Tidyness\n",
    "- The `\"p1_conf\"`,`\"p2_conf\"`,`\"p3_conf\"` are related to dog test, shoud be converted to one column\n",
    "- The `\"doggo\"`,`\"floofer\"`,`\"pupper\"` and`\"puppo\"` are related to dog stage and doesnt follow rules of tidy data."
   ]
  },
  {
   "cell_type": "code",
   "execution_count": null,
   "id": "fc0e1abf",
   "metadata": {},
   "outputs": [],
   "source": [
    "#Creating copies before cleaning\n",
    "# Making a copies of original pieces\n",
    "twitter_api_clean = twitter_api.copy()\n",
    "archive_clean = archive.copy()\n",
    "predict_clean = predict.copy()"
   ]
  },
  {
   "cell_type": "markdown",
   "id": "47f25a10",
   "metadata": {},
   "source": [
    "## Clean"
   ]
  },
  {
   "cell_type": "markdown",
   "id": "da4fa1b6",
   "metadata": {},
   "source": [
    "### 1. Define\n",
    "Using pd.isna() on:\n",
    "`'in_reply_to_status_id','in_reply_to_user_id','retweeted_status_id',\n",
    " 'retweeted_status_user_id','retweeted_status_timestamp'`\n"
   ]
  },
  {
   "cell_type": "markdown",
   "id": "57dd2d1d",
   "metadata": {},
   "source": [
    "### Code"
   ]
  },
  {
   "cell_type": "code",
   "execution_count": null,
   "id": "7a56ca23",
   "metadata": {},
   "outputs": [],
   "source": [
    "archive_clean = archive_clean[archive_clean['in_reply_to_status_id'].isna()]\n",
    "archive_clean = archive_clean[archive_clean['in_reply_to_user_id'].isna()]\n",
    "archive_clean = archive_clean[archive_clean['retweeted_status_id'].isna()]\n",
    "archive_clean = archive_clean[archive_clean['retweeted_status_user_id'].isna()]\n",
    "archive_clean = archive_clean[archive_clean['retweeted_status_timestamp'].isna()]"
   ]
  },
  {
   "cell_type": "markdown",
   "id": "81ea7a2b",
   "metadata": {},
   "source": [
    "### Test"
   ]
  },
  {
   "cell_type": "code",
   "execution_count": null,
   "id": "ffd8a53c",
   "metadata": {},
   "outputs": [],
   "source": [
    "archive_clean.info()"
   ]
  },
  {
   "cell_type": "markdown",
   "id": "ecd9908b",
   "metadata": {},
   "source": [
    "### 2. Define\n",
    " Fixing Dog Stages"
   ]
  },
  {
   "cell_type": "code",
   "execution_count": null,
   "id": "8d815453",
   "metadata": {},
   "outputs": [],
   "source": [
    "# replacing the stage name with 1, and 'None' with 0, like a dummy variable\n",
    "make_dummy = lambda x: 0 if x == 'None' else 1\n",
    "\n",
    "archive_clean.doggo = archive_clean.doggo.apply(make_dummy)\n",
    "archive_clean.floofer = archive_clean.floofer.apply(make_dummy)\n",
    "archive_clean.pupper = archive_clean.pupper.apply(make_dummy)\n",
    "archive_clean.puppo = archive_clean.puppo.apply(make_dummy)\n",
    "\n",
    "# by adding the stage columns, we can see how many are 'none' and how many stages are set\n",
    "archive_clean['none'] = archive_clean['doggo'] + archive_clean['floofer'] + \\\n",
    "                        archive_clean['pupper'] + archive_clean['puppo']"
   ]
  },
  {
   "cell_type": "code",
   "execution_count": null,
   "id": "3fa84b9e",
   "metadata": {},
   "outputs": [],
   "source": [
    "stage_none = lambda x: 1 if x == 0 else 0\n",
    "\n",
    "archive_clean['none'] = archive_clean['none'].apply(stage_none)\n",
    "\n",
    "stage = ['floofer', 'puppo', 'doggo', 'pupper', 'none']\n",
    "\n",
    "conditions = [(archive_clean[stage[0]] == 1), (archive_clean[stage[1]] == 1),\n",
    "              (archive_clean[stage[2]] == 1), (archive_clean[stage[3]] == 1),\n",
    "              (archive_clean[stage[4]] == 1)]\n",
    "\n",
    "archive_clean['stage'] = np.select(conditions, stage, default=stage[4])\n",
    "\n",
    "archive_clean.drop(stage, axis=1, inplace=True)\n",
    "\n",
    "archive_clean['stage'] = archive_clean.stage.astype('category')\n",
    "\n",
    "# Source for algorithm:    https://code.i-harness.com/en/q/19c9fbcm/en/q/19c9fbc"
   ]
  },
  {
   "cell_type": "markdown",
   "id": "b8fd800f",
   "metadata": {},
   "source": [
    "### Test"
   ]
  },
  {
   "cell_type": "code",
   "execution_count": null,
   "id": "524c92da",
   "metadata": {},
   "outputs": [],
   "source": [
    "archive_clean.stage.value_counts()"
   ]
  },
  {
   "cell_type": "markdown",
   "id": "af58c4cf",
   "metadata": {},
   "source": [
    "### 4. Define\n",
    " Change ['timestamp'] using pd.to_datetime"
   ]
  },
  {
   "cell_type": "markdown",
   "id": "f2b23fb9",
   "metadata": {},
   "source": [
    "### Code"
   ]
  },
  {
   "cell_type": "code",
   "execution_count": null,
   "id": "7605d2c3",
   "metadata": {},
   "outputs": [],
   "source": [
    "archive_clean['timestamp'] = pd.to_datetime(archive_clean['timestamp'])"
   ]
  },
  {
   "cell_type": "markdown",
   "id": "e56fec6a",
   "metadata": {},
   "source": [
    "### Test"
   ]
  },
  {
   "cell_type": "code",
   "execution_count": null,
   "id": "ff9a06ff",
   "metadata": {},
   "outputs": [],
   "source": [
    "archive_clean.timestamp.dtypes"
   ]
  },
  {
   "cell_type": "markdown",
   "id": "c7125545",
   "metadata": {},
   "source": [
    "### 5. Define\n",
    "- Change tweet_id datatype in dataframe from int64 to object "
   ]
  },
  {
   "cell_type": "markdown",
   "id": "8bdf9959",
   "metadata": {},
   "source": [
    "### Code"
   ]
  },
  {
   "cell_type": "code",
   "execution_count": null,
   "id": "4d1c4e67",
   "metadata": {},
   "outputs": [],
   "source": [
    "archive_clean['tweet_id'] = archive_clean['tweet_id'].astype(str)\n",
    "predict_clean['tweet_id'] = archive_clean['tweet_id'].astype(str)\n",
    "twitter_api_clean['tweet_id'] = archive_clean['tweet_id'].astype(str)"
   ]
  },
  {
   "cell_type": "markdown",
   "id": "f9d2ccec",
   "metadata": {},
   "source": [
    "### Test"
   ]
  },
  {
   "cell_type": "code",
   "execution_count": null,
   "id": "10caa40a",
   "metadata": {},
   "outputs": [],
   "source": [
    "archive_clean.tweet_id.dtype"
   ]
  },
  {
   "cell_type": "code",
   "execution_count": null,
   "id": "3161aea4",
   "metadata": {},
   "outputs": [],
   "source": [
    "predict_clean.tweet_id.dtype"
   ]
  },
  {
   "cell_type": "code",
   "execution_count": null,
   "id": "7325da28",
   "metadata": {},
   "outputs": [],
   "source": [
    "twitter_api_clean.tweet_id.dtype"
   ]
  },
  {
   "cell_type": "markdown",
   "id": "fdfb0484",
   "metadata": {},
   "source": [
    "### 6. Define\n",
    "-  Creating new 'breed' and 'confidence' collumn"
   ]
  },
  {
   "cell_type": "markdown",
   "id": "817dfc0f",
   "metadata": {},
   "source": [
    "### Code"
   ]
  },
  {
   "cell_type": "code",
   "execution_count": null,
   "id": "f80ac47a",
   "metadata": {},
   "outputs": [],
   "source": [
    "breed = []\n",
    "confidence = []\n",
    "\n",
    "\n",
    "def choose_breed(predict_clean):\n",
    "    if predict_clean['p1_dog'] == True:\n",
    "        breed.append(predict_clean['p1'])\n",
    "        confidence.append(predict_clean['p1_conf'])\n",
    "    else:\n",
    "        breed.append('Unknown')\n",
    "        confidence.append(0)\n",
    "\n",
    "\n",
    "# function call\n",
    "predict_clean.apply(choose_breed, axis=1)\n",
    "# add the two columns\n",
    "predict_clean['breed'] = breed\n",
    "predict_clean['confidence'] = confidence\n",
    "predict_clean.sample(1)"
   ]
  },
  {
   "cell_type": "code",
   "execution_count": null,
   "id": "5389cecb",
   "metadata": {},
   "outputs": [],
   "source": [
    "#fixing breed spelling\n",
    "predict_clean['breed'] = predict_clean['breed'].str.replace('_', ' ')"
   ]
  },
  {
   "cell_type": "code",
   "execution_count": null,
   "id": "bfc15193",
   "metadata": {},
   "outputs": [],
   "source": [
    "# Converting all breeds to lower case\n",
    "predict_clean['breed'] = predict_clean['breed'].str.lower()"
   ]
  },
  {
   "cell_type": "code",
   "execution_count": null,
   "id": "b0cd0ed1",
   "metadata": {},
   "outputs": [],
   "source": [
    "predict_clean.breed.str.replace('Unknown', 'np.nan')"
   ]
  },
  {
   "cell_type": "markdown",
   "id": "35177a17",
   "metadata": {},
   "source": [
    "### Test"
   ]
  },
  {
   "cell_type": "code",
   "execution_count": null,
   "id": "ae81629b",
   "metadata": {},
   "outputs": [],
   "source": [
    "predict_clean.breed.value_counts()"
   ]
  },
  {
   "cell_type": "markdown",
   "id": "9f844ec6",
   "metadata": {},
   "source": [
    "### 8. Define\n",
    "- Converting None to NaN\n",
    "\n"
   ]
  },
  {
   "cell_type": "markdown",
   "id": "3f19d824",
   "metadata": {},
   "source": [
    "### Code "
   ]
  },
  {
   "cell_type": "code",
   "execution_count": null,
   "id": "4e03acbd",
   "metadata": {},
   "outputs": [],
   "source": [
    "archive_clean.replace(to_replace='None', value=np.nan, inplace=True)\n",
    "archive_clean.replace(to_replace='Unknown', value=np.nan, inplace=True)\n",
    "archive_clean.replace(to_replace='unknown', value=np.nan, inplace=True)"
   ]
  },
  {
   "cell_type": "markdown",
   "id": "9aa9f00a",
   "metadata": {},
   "source": [
    "### Test"
   ]
  },
  {
   "cell_type": "code",
   "execution_count": null,
   "id": "06e23859",
   "metadata": {},
   "outputs": [],
   "source": [
    "archive_clean[archive_clean == 'None']"
   ]
  },
  {
   "cell_type": "markdown",
   "id": "da263a57",
   "metadata": {},
   "source": [
    "# Final View"
   ]
  },
  {
   "cell_type": "code",
   "execution_count": null,
   "id": "b054c81f",
   "metadata": {},
   "outputs": [],
   "source": [
    "df_clean = twitter_api_clean.merge(archive_clean,on='tweet_id',how=\"right\").merge(predict_clean,on='tweet_id',how=\"right\")"
   ]
  },
  {
   "cell_type": "code",
   "execution_count": null,
   "id": "5e9e5abf",
   "metadata": {},
   "outputs": [],
   "source": [
    "df_clean.sample(3)"
   ]
  },
  {
   "cell_type": "code",
   "execution_count": null,
   "id": "20f0305f",
   "metadata": {},
   "outputs": [],
   "source": [
    "#saving to csv\n",
    "df_clean.to_csv('twitter_archive_master.csv',index=False)"
   ]
  },
  {
   "cell_type": "markdown",
   "id": "5a2b2483",
   "metadata": {},
   "source": [
    "# Visuals  "
   ]
  },
  {
   "cell_type": "code",
   "execution_count": null,
   "id": "e3f214a1",
   "metadata": {},
   "outputs": [],
   "source": [
    "def labels_and_title(x, y, title):\n",
    "    plt.xlabel(x)\n",
    "    plt.ylabel(y)\n",
    "    plt.title(title)\n",
    "    return labels_and_title\n",
    "\n",
    "\n",
    "#Pick a palette\n",
    "sns.color_palette(\"rocket\", as_cmap=True)\n",
    "# Generating a graphical plot for the data\n",
    "sns.set(rc={'figure.figsize': (10, 8)})"
   ]
  },
  {
   "cell_type": "markdown",
   "id": "8c684b7e",
   "metadata": {},
   "source": [
    "# Question 1: What is WeRateDogs's posting trend overtime?"
   ]
  },
  {
   "cell_type": "code",
   "execution_count": null,
   "id": "96983199",
   "metadata": {},
   "outputs": [],
   "source": [
    "years = df_clean.timestamp.dt.year\n",
    "ret_fav = df_clean.pivot_table(index=years, values=['favorite_count','retweet_count'], aggfunc='sum')\n",
    "ret_fav\n",
    "ret_fav.groupby(years).plot(kind='line')\n",
    "plt.title('Retweeting and Favoriting trend over time')\n",
    "plt.ylabel('Count')\n",
    "plt.xlabel('(Year)')\n",
    "plt.legend(('Retweets', 'Favorites'))\n",
    "plt.savefig('ret_fav')"
   ]
  },
  {
   "cell_type": "markdown",
   "id": "b95158df",
   "metadata": {},
   "source": [
    "###  Regarding to activity overtime, we can cleary notice a drop from 2016 to 2017 with a diference of 42,09 % in `\"favorite_count\"`, and  a drop from 2016 to 2017 with a diference of 49,96 % in `\"retweet_count\"`.\n"
   ]
  },
  {
   "cell_type": "markdown",
   "id": "0f67f7aa",
   "metadata": {},
   "source": [
    "## Question 2: Which breed of dogs got the highest  favorite counts?"
   ]
  },
  {
   "cell_type": "code",
   "execution_count": null,
   "id": "cd0b37d8",
   "metadata": {},
   "outputs": [],
   "source": [
    "color = (sns.color_palette(\"husl\", 10))\n",
    "sns.set(rc={'figure.figsize': (15, 4)})\n",
    "sns.set(font_scale=1)\n",
    "pivot_breed= df_clean.pivot_table(index=['breed'], values=['favorite_count'], aggfunc='sum').sort_values(by=\"favorite_count\",ascending=False)\n",
    "\n",
    "ax = sns.barplot(x='favorite_count', y=pivot_breed.index, data=pivot_breed, palette=color,order=df_clean.breed.value_counts().iloc[:10].index, )\n",
    "plt.title('Highest favorite count per breed')\n",
    "plt.ylabel('Favorite Count')\n",
    "plt.xlabel('Breed')\n",
    "plt.savefig('breed')\n",
    "for i in ax.containers:\n",
    "    ax.bar_label(i,)\n",
    "    pd.set_option('float_format', '{:f}'.format)"
   ]
  },
  {
   "cell_type": "code",
   "execution_count": null,
   "id": "0c5f762a",
   "metadata": {},
   "outputs": [],
   "source": [
    "pivot_stage"
   ]
  },
  {
   "cell_type": "markdown",
   "id": "858a8531",
   "metadata": {},
   "source": [
    "###   We can observe that \"golden retriever\" breed  with 1,257,407 likes, in second place we have the Labrador Retriever with 811848 likes and in the third place the \"pembroke\" with 601228. "
   ]
  },
  {
   "cell_type": "markdown",
   "id": "53c594ea",
   "metadata": {},
   "source": [
    "## Question 3: Which stage of dogs got the highest favorite counts?¶ "
   ]
  },
  {
   "cell_type": "code",
   "execution_count": null,
   "id": "b4dc3532",
   "metadata": {},
   "outputs": [],
   "source": [
    "pivot_stage = df_clean.pivot_table(index=['stage'], values=['favorite_count'], aggfunc='sum')\n",
    "pivot_stage\n",
    "color = (sns.color_palette(\"husl\", 4))\n",
    "sns.set(rc={'figure.figsize': (10, 5)})\n",
    "sns.set(font_scale=1)\n",
    "#f = df_clean.sort_values(by='favorite_count', ascending=False)\n",
    "ax = sns.barplot(y=pivot_stage.index,\n",
    "                 x='favorite_count',\n",
    "                 data=pivot_stage,\n",
    "                 palette=color,\n",
    "                 order=[\"pupper\",\"doggo\", \"floofer\",  \"puppo\"],\n",
    "                 ci=None)\n",
    "plt.title('Highest favorite count per stage')\n",
    "plt.ylabel('')\n",
    "plt.xlabel('')\n",
    "plt.savefig('stages')\n",
    "for i in ax.containers:\n",
    "    ax.bar_label(i,)"
   ]
  },
  {
   "cell_type": "markdown",
   "id": "16c3c60c",
   "metadata": {},
   "source": [
    "### Cleary the most common stage is `\"pupper\"` with a total of 2,052,302 of favorites, representing 84,19 % of all stages, excluding \"nones\"."
   ]
  },
  {
   "cell_type": "code",
   "execution_count": null,
   "id": "45254dce",
   "metadata": {},
   "outputs": [],
   "source": [
    "#Showing Top Breed image\n",
    "top_breed = df_clean[df_clean[\"breed\"]==\"golden retriever\"]\n",
    "url = top_breed.jpg_url.iloc[50]\n",
    "response = requests.get(url)\n",
    "Image.open(BytesIO(response.content))"
   ]
  },
  {
   "cell_type": "code",
   "execution_count": null,
   "id": "58a106a5",
   "metadata": {},
   "outputs": [],
   "source": []
  },
  {
   "cell_type": "code",
   "execution_count": null,
   "id": "10fc7495",
   "metadata": {},
   "outputs": [],
   "source": []
  },
  {
   "cell_type": "code",
   "execution_count": null,
   "id": "922c3c57",
   "metadata": {},
   "outputs": [],
   "source": [
    "import string\n",
    "\n",
    "def substrings_in_string(big_string, substrings):\n",
    "    matches = []\n",
    "    for substring in substrings:\n",
    "        if string.find(big_string, substring) != -1:\n",
    "            matches.append(substring)\n",
    "    if len(matches) == 0:\n",
    "        print(big_string)\n",
    "        return None\n",
    "    else:\n",
    "        return matches\n"
   ]
  },
  {
   "cell_type": "code",
   "execution_count": null,
   "id": "6f4c5515",
   "metadata": {},
   "outputs": [],
   "source": []
  }
 ],
 "metadata": {
  "kernelspec": {
   "display_name": "Python 3 (ipykernel)",
   "language": "python",
   "name": "python3"
  },
  "language_info": {
   "codemirror_mode": {
    "name": "ipython",
    "version": 3
   },
   "file_extension": ".py",
   "mimetype": "text/x-python",
   "name": "python",
   "nbconvert_exporter": "python",
   "pygments_lexer": "ipython3",
   "version": "3.10.4"
  }
 },
 "nbformat": 4,
 "nbformat_minor": 5
}
